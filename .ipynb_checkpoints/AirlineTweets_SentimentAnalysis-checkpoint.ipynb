{
 "cells": [
  {
   "cell_type": "markdown",
   "id": "7ba77f35",
   "metadata": {},
   "source": [
    "# Twitter Sentiment Analysis\n",
    "## Random Forests Sentiment Classification of Airline Tweets \n",
    "Holly Figueroa  \n",
    "DSC 680  \n",
    "Project 2"
   ]
  },
  {
   "cell_type": "markdown",
   "id": "81e8cc65",
   "metadata": {},
   "source": [
    "**Dataset Source:** https://www.kaggle.com/datasets/crowdflower/twitter-airline-sentiment"
   ]
  },
  {
   "cell_type": "code",
   "execution_count": 148,
   "id": "cbc84780",
   "metadata": {},
   "outputs": [],
   "source": [
    "import numpy as np\n",
    "import nltk\n",
    "from nltk.corpus import stopwords\n",
    "import pandas as pd\n",
    "import seaborn as sns\n",
    "import matplotlib.pyplot as plt\n",
    "import re"
   ]
  },
  {
   "cell_type": "code",
   "execution_count": 149,
   "id": "9ad664ab",
   "metadata": {},
   "outputs": [
    {
     "data": {
      "text/html": [
       "<div>\n",
       "<style scoped>\n",
       "    .dataframe tbody tr th:only-of-type {\n",
       "        vertical-align: middle;\n",
       "    }\n",
       "\n",
       "    .dataframe tbody tr th {\n",
       "        vertical-align: top;\n",
       "    }\n",
       "\n",
       "    .dataframe thead th {\n",
       "        text-align: right;\n",
       "    }\n",
       "</style>\n",
       "<table border=\"1\" class=\"dataframe\">\n",
       "  <thead>\n",
       "    <tr style=\"text-align: right;\">\n",
       "      <th></th>\n",
       "      <th>tweet_id</th>\n",
       "      <th>airline_sentiment</th>\n",
       "      <th>airline_sentiment_confidence</th>\n",
       "      <th>negativereason</th>\n",
       "      <th>negativereason_confidence</th>\n",
       "      <th>airline</th>\n",
       "      <th>airline_sentiment_gold</th>\n",
       "      <th>name</th>\n",
       "      <th>negativereason_gold</th>\n",
       "      <th>retweet_count</th>\n",
       "      <th>text</th>\n",
       "      <th>tweet_coord</th>\n",
       "      <th>tweet_created</th>\n",
       "      <th>tweet_location</th>\n",
       "      <th>user_timezone</th>\n",
       "    </tr>\n",
       "  </thead>\n",
       "  <tbody>\n",
       "    <tr>\n",
       "      <th>0</th>\n",
       "      <td>570306133677760513</td>\n",
       "      <td>neutral</td>\n",
       "      <td>1.0000</td>\n",
       "      <td>NaN</td>\n",
       "      <td>NaN</td>\n",
       "      <td>Virgin America</td>\n",
       "      <td>NaN</td>\n",
       "      <td>cairdin</td>\n",
       "      <td>NaN</td>\n",
       "      <td>0</td>\n",
       "      <td>@VirginAmerica What @dhepburn said.</td>\n",
       "      <td>NaN</td>\n",
       "      <td>2015-02-24 11:35:52 -0800</td>\n",
       "      <td>NaN</td>\n",
       "      <td>Eastern Time (US &amp; Canada)</td>\n",
       "    </tr>\n",
       "    <tr>\n",
       "      <th>1</th>\n",
       "      <td>570301130888122368</td>\n",
       "      <td>positive</td>\n",
       "      <td>0.3486</td>\n",
       "      <td>NaN</td>\n",
       "      <td>0.0000</td>\n",
       "      <td>Virgin America</td>\n",
       "      <td>NaN</td>\n",
       "      <td>jnardino</td>\n",
       "      <td>NaN</td>\n",
       "      <td>0</td>\n",
       "      <td>@VirginAmerica plus you've added commercials to the experience... tacky.</td>\n",
       "      <td>NaN</td>\n",
       "      <td>2015-02-24 11:15:59 -0800</td>\n",
       "      <td>NaN</td>\n",
       "      <td>Pacific Time (US &amp; Canada)</td>\n",
       "    </tr>\n",
       "    <tr>\n",
       "      <th>2</th>\n",
       "      <td>570301083672813571</td>\n",
       "      <td>neutral</td>\n",
       "      <td>0.6837</td>\n",
       "      <td>NaN</td>\n",
       "      <td>NaN</td>\n",
       "      <td>Virgin America</td>\n",
       "      <td>NaN</td>\n",
       "      <td>yvonnalynn</td>\n",
       "      <td>NaN</td>\n",
       "      <td>0</td>\n",
       "      <td>@VirginAmerica I didn't today... Must mean I need to take another trip!</td>\n",
       "      <td>NaN</td>\n",
       "      <td>2015-02-24 11:15:48 -0800</td>\n",
       "      <td>Lets Play</td>\n",
       "      <td>Central Time (US &amp; Canada)</td>\n",
       "    </tr>\n",
       "    <tr>\n",
       "      <th>3</th>\n",
       "      <td>570301031407624196</td>\n",
       "      <td>negative</td>\n",
       "      <td>1.0000</td>\n",
       "      <td>Bad Flight</td>\n",
       "      <td>0.7033</td>\n",
       "      <td>Virgin America</td>\n",
       "      <td>NaN</td>\n",
       "      <td>jnardino</td>\n",
       "      <td>NaN</td>\n",
       "      <td>0</td>\n",
       "      <td>@VirginAmerica it's really aggressive to blast obnoxious \"entertainment\" in your guests' faces &amp;amp; they have little recourse</td>\n",
       "      <td>NaN</td>\n",
       "      <td>2015-02-24 11:15:36 -0800</td>\n",
       "      <td>NaN</td>\n",
       "      <td>Pacific Time (US &amp; Canada)</td>\n",
       "    </tr>\n",
       "    <tr>\n",
       "      <th>4</th>\n",
       "      <td>570300817074462722</td>\n",
       "      <td>negative</td>\n",
       "      <td>1.0000</td>\n",
       "      <td>Can't Tell</td>\n",
       "      <td>1.0000</td>\n",
       "      <td>Virgin America</td>\n",
       "      <td>NaN</td>\n",
       "      <td>jnardino</td>\n",
       "      <td>NaN</td>\n",
       "      <td>0</td>\n",
       "      <td>@VirginAmerica and it's a really big bad thing about it</td>\n",
       "      <td>NaN</td>\n",
       "      <td>2015-02-24 11:14:45 -0800</td>\n",
       "      <td>NaN</td>\n",
       "      <td>Pacific Time (US &amp; Canada)</td>\n",
       "    </tr>\n",
       "  </tbody>\n",
       "</table>\n",
       "</div>"
      ],
      "text/plain": [
       "             tweet_id airline_sentiment  airline_sentiment_confidence  \\\n",
       "0  570306133677760513           neutral                        1.0000   \n",
       "1  570301130888122368          positive                        0.3486   \n",
       "2  570301083672813571           neutral                        0.6837   \n",
       "3  570301031407624196          negative                        1.0000   \n",
       "4  570300817074462722          negative                        1.0000   \n",
       "\n",
       "  negativereason  negativereason_confidence         airline  \\\n",
       "0            NaN                        NaN  Virgin America   \n",
       "1            NaN                     0.0000  Virgin America   \n",
       "2            NaN                        NaN  Virgin America   \n",
       "3     Bad Flight                     0.7033  Virgin America   \n",
       "4     Can't Tell                     1.0000  Virgin America   \n",
       "\n",
       "  airline_sentiment_gold        name negativereason_gold  retweet_count  \\\n",
       "0                    NaN     cairdin                 NaN              0   \n",
       "1                    NaN    jnardino                 NaN              0   \n",
       "2                    NaN  yvonnalynn                 NaN              0   \n",
       "3                    NaN    jnardino                 NaN              0   \n",
       "4                    NaN    jnardino                 NaN              0   \n",
       "\n",
       "                                                                                                                             text  \\\n",
       "0                                                                                             @VirginAmerica What @dhepburn said.   \n",
       "1                                                        @VirginAmerica plus you've added commercials to the experience... tacky.   \n",
       "2                                                         @VirginAmerica I didn't today... Must mean I need to take another trip!   \n",
       "3  @VirginAmerica it's really aggressive to blast obnoxious \"entertainment\" in your guests' faces &amp; they have little recourse   \n",
       "4                                                                         @VirginAmerica and it's a really big bad thing about it   \n",
       "\n",
       "  tweet_coord              tweet_created tweet_location  \\\n",
       "0         NaN  2015-02-24 11:35:52 -0800            NaN   \n",
       "1         NaN  2015-02-24 11:15:59 -0800            NaN   \n",
       "2         NaN  2015-02-24 11:15:48 -0800      Lets Play   \n",
       "3         NaN  2015-02-24 11:15:36 -0800            NaN   \n",
       "4         NaN  2015-02-24 11:14:45 -0800            NaN   \n",
       "\n",
       "                user_timezone  \n",
       "0  Eastern Time (US & Canada)  \n",
       "1  Pacific Time (US & Canada)  \n",
       "2  Central Time (US & Canada)  \n",
       "3  Pacific Time (US & Canada)  \n",
       "4  Pacific Time (US & Canada)  "
      ]
     },
     "execution_count": 149,
     "metadata": {},
     "output_type": "execute_result"
    }
   ],
   "source": [
    "# Load data and view\n",
    "df = pd.read_csv('Tweets.csv')\n",
    "df.head()"
   ]
  },
  {
   "cell_type": "code",
   "execution_count": 150,
   "id": "003eb7b4",
   "metadata": {},
   "outputs": [
    {
     "data": {
      "text/plain": [
       "(14640, 15)"
      ]
     },
     "execution_count": 150,
     "metadata": {},
     "output_type": "execute_result"
    }
   ],
   "source": [
    "df.shape"
   ]
  },
  {
   "cell_type": "markdown",
   "id": "05d661e0",
   "metadata": {},
   "source": [
    "## EDA"
   ]
  },
  {
   "cell_type": "code",
   "execution_count": 151,
   "id": "30dec289",
   "metadata": {},
   "outputs": [
    {
     "data": {
      "text/plain": [
       "tweet_id                            0\n",
       "airline_sentiment                   0\n",
       "airline_sentiment_confidence        0\n",
       "negativereason                   5462\n",
       "negativereason_confidence        4118\n",
       "airline                             0\n",
       "airline_sentiment_gold          14600\n",
       "name                                0\n",
       "negativereason_gold             14608\n",
       "retweet_count                       0\n",
       "text                                0\n",
       "tweet_coord                     13621\n",
       "tweet_created                       0\n",
       "tweet_location                   4733\n",
       "user_timezone                    4820\n",
       "dtype: int64"
      ]
     },
     "execution_count": 151,
     "metadata": {},
     "output_type": "execute_result"
    }
   ],
   "source": [
    "# Get null counts for each column\n",
    "df.isnull().sum()"
   ]
  },
  {
   "cell_type": "code",
   "execution_count": 152,
   "id": "fc4bdd52",
   "metadata": {},
   "outputs": [
    {
     "data": {
      "text/html": [
       "<div>\n",
       "<style scoped>\n",
       "    .dataframe tbody tr th:only-of-type {\n",
       "        vertical-align: middle;\n",
       "    }\n",
       "\n",
       "    .dataframe tbody tr th {\n",
       "        vertical-align: top;\n",
       "    }\n",
       "\n",
       "    .dataframe thead th {\n",
       "        text-align: right;\n",
       "    }\n",
       "</style>\n",
       "<table border=\"1\" class=\"dataframe\">\n",
       "  <thead>\n",
       "    <tr style=\"text-align: right;\">\n",
       "      <th></th>\n",
       "      <th>airline_sentiment</th>\n",
       "    </tr>\n",
       "  </thead>\n",
       "  <tbody>\n",
       "    <tr>\n",
       "      <th>negative</th>\n",
       "      <td>9178</td>\n",
       "    </tr>\n",
       "    <tr>\n",
       "      <th>neutral</th>\n",
       "      <td>3099</td>\n",
       "    </tr>\n",
       "    <tr>\n",
       "      <th>positive</th>\n",
       "      <td>2363</td>\n",
       "    </tr>\n",
       "  </tbody>\n",
       "</table>\n",
       "</div>"
      ],
      "text/plain": [
       "          airline_sentiment\n",
       "negative               9178\n",
       "neutral                3099\n",
       "positive               2363"
      ]
     },
     "execution_count": 152,
     "metadata": {},
     "output_type": "execute_result"
    }
   ],
   "source": [
    "# Class Value Counts\n",
    "sentiment = pd.DataFrame(df['airline_sentiment'].value_counts())\n",
    "sentiment"
   ]
  },
  {
   "cell_type": "code",
   "execution_count": 153,
   "id": "a725dfa5",
   "metadata": {},
   "outputs": [
    {
     "data": {
      "image/png": "[encoded data removed]",
      "text/plain": [
       "<Figure size 640x480 with 1 Axes>"
      ]
     },
     "metadata": {},
     "output_type": "display_data"
    }
   ],
   "source": [
    "# Create bar plot of sentiment class labels\n",
    "sns.barplot(sentiment, x = sentiment.index, y = 'airline_sentiment').set_title('Sentiment Class Counts')\n",
    "plt.show()"
   ]
  },
  {
   "cell_type": "code",
   "execution_count": 154,
   "id": "02c5b4ea",
   "metadata": {},
   "outputs": [
    {
     "data": {
      "text/html": [
       "<div>\n",
       "<style scoped>\n",
       "    .dataframe tbody tr th:only-of-type {\n",
       "        vertical-align: middle;\n",
       "    }\n",
       "\n",
       "    .dataframe tbody tr th {\n",
       "        vertical-align: top;\n",
       "    }\n",
       "\n",
       "    .dataframe thead th {\n",
       "        text-align: right;\n",
       "    }\n",
       "</style>\n",
       "<table border=\"1\" class=\"dataframe\">\n",
       "  <thead>\n",
       "    <tr style=\"text-align: right;\">\n",
       "      <th></th>\n",
       "      <th>airline</th>\n",
       "    </tr>\n",
       "  </thead>\n",
       "  <tbody>\n",
       "    <tr>\n",
       "      <th>United</th>\n",
       "      <td>3822</td>\n",
       "    </tr>\n",
       "    <tr>\n",
       "      <th>US Airways</th>\n",
       "      <td>2913</td>\n",
       "    </tr>\n",
       "    <tr>\n",
       "      <th>American</th>\n",
       "      <td>2759</td>\n",
       "    </tr>\n",
       "    <tr>\n",
       "      <th>Southwest</th>\n",
       "      <td>2420</td>\n",
       "    </tr>\n",
       "    <tr>\n",
       "      <th>Delta</th>\n",
       "      <td>2222</td>\n",
       "    </tr>\n",
       "    <tr>\n",
       "      <th>Virgin America</th>\n",
       "      <td>504</td>\n",
       "    </tr>\n",
       "  </tbody>\n",
       "</table>\n",
       "</div>"
      ],
      "text/plain": [
       "                airline\n",
       "United             3822\n",
       "US Airways         2913\n",
       "American           2759\n",
       "Southwest          2420\n",
       "Delta              2222\n",
       "Virgin America      504"
      ]
     },
     "execution_count": 154,
     "metadata": {},
     "output_type": "execute_result"
    }
   ],
   "source": [
    "# Get value counts for airlines\n",
    "airlines = pd.DataFrame(df['airline'].value_counts())\n",
    "airlines"
   ]
  },
  {
   "cell_type": "code",
   "execution_count": 155,
   "id": "37397cd6",
   "metadata": {},
   "outputs": [
    {
     "data": {
      "image/png": "[encoded data removed]",
      "text/plain": [
       "<Figure size 640x480 with 1 Axes>"
      ]
     },
     "metadata": {},
     "output_type": "display_data"
    }
   ],
   "source": [
    "# Create bar plot of airlines represented in dataset\n",
    "sns.barplot(airlines, x = airlines.index, y = 'airline').set_title('Airline Counts')\n",
    "plt.show()"
   ]
  },
  {
   "cell_type": "code",
   "execution_count": 156,
   "id": "ddde9f28",
   "metadata": {},
   "outputs": [
    {
     "data": {
      "text/plain": [
       "0     13873\n",
       "1       640\n",
       "2        66\n",
       "3        22\n",
       "4        17\n",
       "5         5\n",
       "7         3\n",
       "6         3\n",
       "22        2\n",
       "8         1\n",
       "32        1\n",
       "28        1\n",
       "9         1\n",
       "18        1\n",
       "11        1\n",
       "31        1\n",
       "15        1\n",
       "44        1\n",
       "Name: retweet_count, dtype: int64"
      ]
     },
     "execution_count": 156,
     "metadata": {},
     "output_type": "execute_result"
    }
   ],
   "source": [
    "# Plot histogram of retweets\n",
    "df['retweet_count'].value_counts()"
   ]
  },
  {
   "cell_type": "code",
   "execution_count": 174,
   "id": "9f0bfcac",
   "metadata": {},
   "outputs": [
    {
     "data": {
      "text/html": [
       "<div>\n",
       "<style scoped>\n",
       "    .dataframe tbody tr th:only-of-type {\n",
       "        vertical-align: middle;\n",
       "    }\n",
       "\n",
       "    .dataframe tbody tr th {\n",
       "        vertical-align: top;\n",
       "    }\n",
       "\n",
       "    .dataframe thead th {\n",
       "        text-align: right;\n",
       "    }\n",
       "</style>\n",
       "<table border=\"1\" class=\"dataframe\">\n",
       "  <thead>\n",
       "    <tr style=\"text-align: right;\">\n",
       "      <th></th>\n",
       "      <th>airline</th>\n",
       "      <th>negativereason</th>\n",
       "      <th>airline_sentiment</th>\n",
       "    </tr>\n",
       "  </thead>\n",
       "  <tbody>\n",
       "    <tr>\n",
       "      <th>3</th>\n",
       "      <td>Virgin America</td>\n",
       "      <td>Bad Flight</td>\n",
       "      <td>negative</td>\n",
       "    </tr>\n",
       "    <tr>\n",
       "      <th>4</th>\n",
       "      <td>Virgin America</td>\n",
       "      <td>Can't Tell</td>\n",
       "      <td>negative</td>\n",
       "    </tr>\n",
       "    <tr>\n",
       "      <th>5</th>\n",
       "      <td>Virgin America</td>\n",
       "      <td>Can't Tell</td>\n",
       "      <td>negative</td>\n",
       "    </tr>\n",
       "    <tr>\n",
       "      <th>15</th>\n",
       "      <td>Virgin America</td>\n",
       "      <td>Late Flight</td>\n",
       "      <td>negative</td>\n",
       "    </tr>\n",
       "    <tr>\n",
       "      <th>17</th>\n",
       "      <td>Virgin America</td>\n",
       "      <td>Bad Flight</td>\n",
       "      <td>negative</td>\n",
       "    </tr>\n",
       "  </tbody>\n",
       "</table>\n",
       "</div>"
      ],
      "text/plain": [
       "           airline negativereason airline_sentiment\n",
       "3   Virgin America     Bad Flight          negative\n",
       "4   Virgin America     Can't Tell          negative\n",
       "5   Virgin America     Can't Tell          negative\n",
       "15  Virgin America    Late Flight          negative\n",
       "17  Virgin America     Bad Flight          negative"
      ]
     },
     "execution_count": 174,
     "metadata": {},
     "output_type": "execute_result"
    }
   ],
   "source": [
    "# Create separate df of reasons for pos/neg tweet for word cloud\n",
    "reasons = df[['airline','negativereason', 'airline_sentiment']]\n",
    "reasons = reasons[reasons['airline_sentiment']== 'negative']\n",
    "reasons.head()"
   ]
  },
  {
   "cell_type": "code",
   "execution_count": 175,
   "id": "65cf3da0",
   "metadata": {},
   "outputs": [
    {
     "data": {
      "text/html": [
       "<div>\n",
       "<style scoped>\n",
       "    .dataframe tbody tr th:only-of-type {\n",
       "        vertical-align: middle;\n",
       "    }\n",
       "\n",
       "    .dataframe tbody tr th {\n",
       "        vertical-align: top;\n",
       "    }\n",
       "\n",
       "    .dataframe thead th {\n",
       "        text-align: right;\n",
       "    }\n",
       "</style>\n",
       "<table border=\"1\" class=\"dataframe\">\n",
       "  <thead>\n",
       "    <tr style=\"text-align: right;\">\n",
       "      <th></th>\n",
       "      <th>index</th>\n",
       "      <th>negativereason</th>\n",
       "    </tr>\n",
       "  </thead>\n",
       "  <tbody>\n",
       "    <tr>\n",
       "      <th>0</th>\n",
       "      <td>Customer Service Issue</td>\n",
       "      <td>2910</td>\n",
       "    </tr>\n",
       "    <tr>\n",
       "      <th>1</th>\n",
       "      <td>Late Flight</td>\n",
       "      <td>1665</td>\n",
       "    </tr>\n",
       "    <tr>\n",
       "      <th>2</th>\n",
       "      <td>Can't Tell</td>\n",
       "      <td>1190</td>\n",
       "    </tr>\n",
       "    <tr>\n",
       "      <th>3</th>\n",
       "      <td>Cancelled Flight</td>\n",
       "      <td>847</td>\n",
       "    </tr>\n",
       "    <tr>\n",
       "      <th>4</th>\n",
       "      <td>Lost Luggage</td>\n",
       "      <td>724</td>\n",
       "    </tr>\n",
       "    <tr>\n",
       "      <th>5</th>\n",
       "      <td>Bad Flight</td>\n",
       "      <td>580</td>\n",
       "    </tr>\n",
       "    <tr>\n",
       "      <th>6</th>\n",
       "      <td>Flight Booking Problems</td>\n",
       "      <td>529</td>\n",
       "    </tr>\n",
       "    <tr>\n",
       "      <th>7</th>\n",
       "      <td>Flight Attendant Complaints</td>\n",
       "      <td>481</td>\n",
       "    </tr>\n",
       "    <tr>\n",
       "      <th>8</th>\n",
       "      <td>longlines</td>\n",
       "      <td>178</td>\n",
       "    </tr>\n",
       "    <tr>\n",
       "      <th>9</th>\n",
       "      <td>Damaged Luggage</td>\n",
       "      <td>74</td>\n",
       "    </tr>\n",
       "  </tbody>\n",
       "</table>\n",
       "</div>"
      ],
      "text/plain": [
       "                         index  negativereason\n",
       "0       Customer Service Issue            2910\n",
       "1                  Late Flight            1665\n",
       "2                   Can't Tell            1190\n",
       "3             Cancelled Flight             847\n",
       "4                 Lost Luggage             724\n",
       "5                   Bad Flight             580\n",
       "6      Flight Booking Problems             529\n",
       "7  Flight Attendant Complaints             481\n",
       "8                    longlines             178\n",
       "9              Damaged Luggage              74"
      ]
     },
     "execution_count": 175,
     "metadata": {},
     "output_type": "execute_result"
    }
   ],
   "source": [
    "reason_counts = reasons['negativereason'].value_counts().reset_index()\n",
    "reason_counts"
   ]
  },
  {
   "cell_type": "code",
   "execution_count": 176,
   "id": "3217dc8e",
   "metadata": {},
   "outputs": [],
   "source": [
    "# Rename longlines to match other category formats\n",
    "reason_counts['index'] = reason_counts['index'].replace('longlines','Long Lines')"
   ]
  },
  {
   "cell_type": "code",
   "execution_count": 177,
   "id": "7bc9f1d1",
   "metadata": {},
   "outputs": [
    {
     "data": {
      "image/png": "[encoded data removed]",
      "text/plain": [
       "<Figure size 640x480 with 1 Axes>"
      ]
     },
     "metadata": {},
     "output_type": "display_data"
    }
   ],
   "source": [
    "# Create bar plot of airlines represented in dataset\n",
    "sns.barplot(reason_counts, x = 'negativereason', y = 'index').set_title('Reason for Negative Review')\n",
    "plt.show()"
   ]
  },
  {
   "cell_type": "code",
   "execution_count": 11,
   "id": "a9695720",
   "metadata": {},
   "outputs": [
    {
     "data": {
      "text/plain": [
       "Index(['tweet_id', 'airline_sentiment', 'airline_sentiment_confidence',\n",
       "       'negativereason', 'negativereason_confidence', 'airline',\n",
       "       'airline_sentiment_gold', 'name', 'negativereason_gold',\n",
       "       'retweet_count', 'text', 'tweet_coord', 'tweet_created',\n",
       "       'tweet_location', 'user_timezone'],\n",
       "      dtype='object')"
      ]
     },
     "execution_count": 11,
     "metadata": {},
     "output_type": "execute_result"
    }
   ],
   "source": [
    "df.columns"
   ]
  },
  {
   "cell_type": "code",
   "execution_count": 12,
   "id": "83da5661",
   "metadata": {},
   "outputs": [],
   "source": [
    "# Drop columns\n",
    "df = df.drop(columns=['negativereason', 'negativereason_confidence',\n",
    "       'airline_sentiment_gold', 'name', 'negativereason_gold', 'tweet_coord', 'tweet_created',\n",
    "       'tweet_location', 'user_timezone'], axis = 1)"
   ]
  },
  {
   "cell_type": "code",
   "execution_count": 13,
   "id": "1b74a5cc",
   "metadata": {},
   "outputs": [
    {
     "data": {
      "text/plain": [
       "Index(['tweet_id', 'airline_sentiment', 'airline_sentiment_confidence',\n",
       "       'airline', 'retweet_count', 'text'],\n",
       "      dtype='object')"
      ]
     },
     "execution_count": 13,
     "metadata": {},
     "output_type": "execute_result"
    }
   ],
   "source": [
    "df.columns"
   ]
  },
  {
   "cell_type": "code",
   "execution_count": 14,
   "id": "b2e5a602",
   "metadata": {},
   "outputs": [],
   "source": [
    "# Rename Columns\n",
    "df.columns = ['tweet_id', 'sentiment', 'confidence',\n",
    "       'airline', 'retweets', 'text']"
   ]
  },
  {
   "cell_type": "code",
   "execution_count": 15,
   "id": "2e4f7fc4",
   "metadata": {},
   "outputs": [
    {
     "data": {
      "text/html": [
       "<div>\n",
       "<style scoped>\n",
       "    .dataframe tbody tr th:only-of-type {\n",
       "        vertical-align: middle;\n",
       "    }\n",
       "\n",
       "    .dataframe tbody tr th {\n",
       "        vertical-align: top;\n",
       "    }\n",
       "\n",
       "    .dataframe thead th {\n",
       "        text-align: right;\n",
       "    }\n",
       "</style>\n",
       "<table border=\"1\" class=\"dataframe\">\n",
       "  <thead>\n",
       "    <tr style=\"text-align: right;\">\n",
       "      <th></th>\n",
       "      <th>tweet_id</th>\n",
       "      <th>sentiment</th>\n",
       "      <th>confidence</th>\n",
       "      <th>airline</th>\n",
       "      <th>retweets</th>\n",
       "      <th>text</th>\n",
       "    </tr>\n",
       "  </thead>\n",
       "  <tbody>\n",
       "    <tr>\n",
       "      <th>0</th>\n",
       "      <td>570306133677760513</td>\n",
       "      <td>neutral</td>\n",
       "      <td>1.0000</td>\n",
       "      <td>Virgin America</td>\n",
       "      <td>0</td>\n",
       "      <td>@VirginAmerica What @dhepburn said.</td>\n",
       "    </tr>\n",
       "    <tr>\n",
       "      <th>1</th>\n",
       "      <td>570301130888122368</td>\n",
       "      <td>positive</td>\n",
       "      <td>0.3486</td>\n",
       "      <td>Virgin America</td>\n",
       "      <td>0</td>\n",
       "      <td>@VirginAmerica plus you've added commercials t...</td>\n",
       "    </tr>\n",
       "    <tr>\n",
       "      <th>2</th>\n",
       "      <td>570301083672813571</td>\n",
       "      <td>neutral</td>\n",
       "      <td>0.6837</td>\n",
       "      <td>Virgin America</td>\n",
       "      <td>0</td>\n",
       "      <td>@VirginAmerica I didn't today... Must mean I n...</td>\n",
       "    </tr>\n",
       "    <tr>\n",
       "      <th>3</th>\n",
       "      <td>570301031407624196</td>\n",
       "      <td>negative</td>\n",
       "      <td>1.0000</td>\n",
       "      <td>Virgin America</td>\n",
       "      <td>0</td>\n",
       "      <td>@VirginAmerica it's really aggressive to blast...</td>\n",
       "    </tr>\n",
       "    <tr>\n",
       "      <th>4</th>\n",
       "      <td>570300817074462722</td>\n",
       "      <td>negative</td>\n",
       "      <td>1.0000</td>\n",
       "      <td>Virgin America</td>\n",
       "      <td>0</td>\n",
       "      <td>@VirginAmerica and it's a really big bad thing...</td>\n",
       "    </tr>\n",
       "  </tbody>\n",
       "</table>\n",
       "</div>"
      ],
      "text/plain": [
       "             tweet_id sentiment  confidence         airline  retweets  \\\n",
       "0  570306133677760513   neutral      1.0000  Virgin America         0   \n",
       "1  570301130888122368  positive      0.3486  Virgin America         0   \n",
       "2  570301083672813571   neutral      0.6837  Virgin America         0   \n",
       "3  570301031407624196  negative      1.0000  Virgin America         0   \n",
       "4  570300817074462722  negative      1.0000  Virgin America         0   \n",
       "\n",
       "                                                text  \n",
       "0                @VirginAmerica What @dhepburn said.  \n",
       "1  @VirginAmerica plus you've added commercials t...  \n",
       "2  @VirginAmerica I didn't today... Must mean I n...  \n",
       "3  @VirginAmerica it's really aggressive to blast...  \n",
       "4  @VirginAmerica and it's a really big bad thing...  "
      ]
     },
     "execution_count": 15,
     "metadata": {},
     "output_type": "execute_result"
    }
   ],
   "source": [
    "df.head()"
   ]
  },
  {
   "cell_type": "code",
   "execution_count": 87,
   "id": "3c6af2a5",
   "metadata": {},
   "outputs": [
    {
     "data": {
      "text/html": [
       "<div>\n",
       "<style scoped>\n",
       "    .dataframe tbody tr th:only-of-type {\n",
       "        vertical-align: middle;\n",
       "    }\n",
       "\n",
       "    .dataframe tbody tr th {\n",
       "        vertical-align: top;\n",
       "    }\n",
       "\n",
       "    .dataframe thead th {\n",
       "        text-align: right;\n",
       "    }\n",
       "</style>\n",
       "<table border=\"1\" class=\"dataframe\">\n",
       "  <thead>\n",
       "    <tr style=\"text-align: right;\">\n",
       "      <th></th>\n",
       "      <th>tweet_id</th>\n",
       "      <th>confidence</th>\n",
       "      <th>airline</th>\n",
       "      <th>retweets</th>\n",
       "      <th>text</th>\n",
       "      <th>sentiment_negative</th>\n",
       "      <th>sentiment_neutral</th>\n",
       "      <th>sentiment_positive</th>\n",
       "    </tr>\n",
       "  </thead>\n",
       "  <tbody>\n",
       "    <tr>\n",
       "      <th>0</th>\n",
       "      <td>570306133677760513</td>\n",
       "      <td>1.0000</td>\n",
       "      <td>Virgin America</td>\n",
       "      <td>0</td>\n",
       "      <td>@VirginAmerica What @dhepburn said.</td>\n",
       "      <td>0</td>\n",
       "      <td>1</td>\n",
       "      <td>0</td>\n",
       "    </tr>\n",
       "    <tr>\n",
       "      <th>1</th>\n",
       "      <td>570301130888122368</td>\n",
       "      <td>0.3486</td>\n",
       "      <td>Virgin America</td>\n",
       "      <td>0</td>\n",
       "      <td>@VirginAmerica plus you've added commercials t...</td>\n",
       "      <td>0</td>\n",
       "      <td>0</td>\n",
       "      <td>1</td>\n",
       "    </tr>\n",
       "    <tr>\n",
       "      <th>2</th>\n",
       "      <td>570301083672813571</td>\n",
       "      <td>0.6837</td>\n",
       "      <td>Virgin America</td>\n",
       "      <td>0</td>\n",
       "      <td>@VirginAmerica I didn't today... Must mean I n...</td>\n",
       "      <td>0</td>\n",
       "      <td>1</td>\n",
       "      <td>0</td>\n",
       "    </tr>\n",
       "    <tr>\n",
       "      <th>3</th>\n",
       "      <td>570301031407624196</td>\n",
       "      <td>1.0000</td>\n",
       "      <td>Virgin America</td>\n",
       "      <td>0</td>\n",
       "      <td>@VirginAmerica it's really aggressive to blast...</td>\n",
       "      <td>1</td>\n",
       "      <td>0</td>\n",
       "      <td>0</td>\n",
       "    </tr>\n",
       "    <tr>\n",
       "      <th>4</th>\n",
       "      <td>570300817074462722</td>\n",
       "      <td>1.0000</td>\n",
       "      <td>Virgin America</td>\n",
       "      <td>0</td>\n",
       "      <td>@VirginAmerica and it's a really big bad thing...</td>\n",
       "      <td>1</td>\n",
       "      <td>0</td>\n",
       "      <td>0</td>\n",
       "    </tr>\n",
       "  </tbody>\n",
       "</table>\n",
       "</div>"
      ],
      "text/plain": [
       "             tweet_id  confidence         airline  retweets  \\\n",
       "0  570306133677760513      1.0000  Virgin America         0   \n",
       "1  570301130888122368      0.3486  Virgin America         0   \n",
       "2  570301083672813571      0.6837  Virgin America         0   \n",
       "3  570301031407624196      1.0000  Virgin America         0   \n",
       "4  570300817074462722      1.0000  Virgin America         0   \n",
       "\n",
       "                                                text  sentiment_negative  \\\n",
       "0                @VirginAmerica What @dhepburn said.                   0   \n",
       "1  @VirginAmerica plus you've added commercials t...                   0   \n",
       "2  @VirginAmerica I didn't today... Must mean I n...                   0   \n",
       "3  @VirginAmerica it's really aggressive to blast...                   1   \n",
       "4  @VirginAmerica and it's a really big bad thing...                   1   \n",
       "\n",
       "   sentiment_neutral  sentiment_positive  \n",
       "0                  1                   0  \n",
       "1                  0                   1  \n",
       "2                  1                   0  \n",
       "3                  0                   0  \n",
       "4                  0                   0  "
      ]
     },
     "execution_count": 87,
     "metadata": {},
     "output_type": "execute_result"
    }
   ],
   "source": [
    "compare = pd.get_dummies(df,columns = ['sentiment'])\n",
    "compare.head()"
   ]
  },
  {
   "cell_type": "code",
   "execution_count": 88,
   "id": "215848c8",
   "metadata": {},
   "outputs": [
    {
     "data": {
      "text/html": [
       "<div>\n",
       "<style scoped>\n",
       "    .dataframe tbody tr th:only-of-type {\n",
       "        vertical-align: middle;\n",
       "    }\n",
       "\n",
       "    .dataframe tbody tr th {\n",
       "        vertical-align: top;\n",
       "    }\n",
       "\n",
       "    .dataframe thead th {\n",
       "        text-align: right;\n",
       "    }\n",
       "</style>\n",
       "<table border=\"1\" class=\"dataframe\">\n",
       "  <thead>\n",
       "    <tr style=\"text-align: right;\">\n",
       "      <th></th>\n",
       "      <th>airline</th>\n",
       "      <th>sentiment_negative</th>\n",
       "      <th>sentiment_neutral</th>\n",
       "      <th>sentiment_positive</th>\n",
       "    </tr>\n",
       "  </thead>\n",
       "  <tbody>\n",
       "    <tr>\n",
       "      <th>0</th>\n",
       "      <td>Virgin America</td>\n",
       "      <td>0</td>\n",
       "      <td>1</td>\n",
       "      <td>0</td>\n",
       "    </tr>\n",
       "    <tr>\n",
       "      <th>1</th>\n",
       "      <td>Virgin America</td>\n",
       "      <td>0</td>\n",
       "      <td>0</td>\n",
       "      <td>1</td>\n",
       "    </tr>\n",
       "    <tr>\n",
       "      <th>2</th>\n",
       "      <td>Virgin America</td>\n",
       "      <td>0</td>\n",
       "      <td>1</td>\n",
       "      <td>0</td>\n",
       "    </tr>\n",
       "    <tr>\n",
       "      <th>3</th>\n",
       "      <td>Virgin America</td>\n",
       "      <td>1</td>\n",
       "      <td>0</td>\n",
       "      <td>0</td>\n",
       "    </tr>\n",
       "    <tr>\n",
       "      <th>4</th>\n",
       "      <td>Virgin America</td>\n",
       "      <td>1</td>\n",
       "      <td>0</td>\n",
       "      <td>0</td>\n",
       "    </tr>\n",
       "  </tbody>\n",
       "</table>\n",
       "</div>"
      ],
      "text/plain": [
       "          airline  sentiment_negative  sentiment_neutral  sentiment_positive\n",
       "0  Virgin America                   0                  1                   0\n",
       "1  Virgin America                   0                  0                   1\n",
       "2  Virgin America                   0                  1                   0\n",
       "3  Virgin America                   1                  0                   0\n",
       "4  Virgin America                   1                  0                   0"
      ]
     },
     "execution_count": 88,
     "metadata": {},
     "output_type": "execute_result"
    }
   ],
   "source": [
    "compare = compare[['airline', 'sentiment_negative', 'sentiment_neutral', 'sentiment_positive']]\n",
    "compare.head()"
   ]
  },
  {
   "cell_type": "code",
   "execution_count": 89,
   "id": "01e8f65b",
   "metadata": {},
   "outputs": [
    {
     "data": {
      "text/html": [
       "<div>\n",
       "<style scoped>\n",
       "    .dataframe tbody tr th:only-of-type {\n",
       "        vertical-align: middle;\n",
       "    }\n",
       "\n",
       "    .dataframe tbody tr th {\n",
       "        vertical-align: top;\n",
       "    }\n",
       "\n",
       "    .dataframe thead th {\n",
       "        text-align: right;\n",
       "    }\n",
       "</style>\n",
       "<table border=\"1\" class=\"dataframe\">\n",
       "  <thead>\n",
       "    <tr style=\"text-align: right;\">\n",
       "      <th></th>\n",
       "      <th>airline</th>\n",
       "      <th>sentiment_negative</th>\n",
       "      <th>sentiment_neutral</th>\n",
       "      <th>sentiment_positive</th>\n",
       "    </tr>\n",
       "  </thead>\n",
       "  <tbody>\n",
       "    <tr>\n",
       "      <th>0</th>\n",
       "      <td>American</td>\n",
       "      <td>1960</td>\n",
       "      <td>463</td>\n",
       "      <td>336</td>\n",
       "    </tr>\n",
       "    <tr>\n",
       "      <th>1</th>\n",
       "      <td>Delta</td>\n",
       "      <td>955</td>\n",
       "      <td>723</td>\n",
       "      <td>544</td>\n",
       "    </tr>\n",
       "    <tr>\n",
       "      <th>2</th>\n",
       "      <td>Southwest</td>\n",
       "      <td>1186</td>\n",
       "      <td>664</td>\n",
       "      <td>570</td>\n",
       "    </tr>\n",
       "    <tr>\n",
       "      <th>3</th>\n",
       "      <td>US Airways</td>\n",
       "      <td>2263</td>\n",
       "      <td>381</td>\n",
       "      <td>269</td>\n",
       "    </tr>\n",
       "    <tr>\n",
       "      <th>4</th>\n",
       "      <td>United</td>\n",
       "      <td>2633</td>\n",
       "      <td>697</td>\n",
       "      <td>492</td>\n",
       "    </tr>\n",
       "    <tr>\n",
       "      <th>5</th>\n",
       "      <td>Virgin America</td>\n",
       "      <td>181</td>\n",
       "      <td>171</td>\n",
       "      <td>152</td>\n",
       "    </tr>\n",
       "  </tbody>\n",
       "</table>\n",
       "</div>"
      ],
      "text/plain": [
       "          airline  sentiment_negative  sentiment_neutral  sentiment_positive\n",
       "0        American                1960                463                 336\n",
       "1           Delta                 955                723                 544\n",
       "2       Southwest                1186                664                 570\n",
       "3      US Airways                2263                381                 269\n",
       "4          United                2633                697                 492\n",
       "5  Virgin America                 181                171                 152"
      ]
     },
     "execution_count": 89,
     "metadata": {},
     "output_type": "execute_result"
    }
   ],
   "source": [
    "compare = compare.groupby(['airline']).sum().reset_index()\n",
    "compare"
   ]
  },
  {
   "cell_type": "code",
   "execution_count": 101,
   "id": "87ede9c5",
   "metadata": {},
   "outputs": [],
   "source": [
    "compare['total_reviews'] = compare[['sentiment_negative', 'sentiment_neutral',\n",
    "       'sentiment_positive']].sum(axis = 1)\n",
    "\n",
    "compare['percent_positive'] = round(compare['sentiment_positive']/compare['total_reviews'],2)\n",
    "\n",
    "compare['percent_negative'] = round(compare['sentiment_negative']/compare['total_reviews'],2)\n"
   ]
  },
  {
   "cell_type": "code",
   "execution_count": 178,
   "id": "e7dae07f",
   "metadata": {},
   "outputs": [
    {
     "data": {
      "text/html": [
       "<div>\n",
       "<style scoped>\n",
       "    .dataframe tbody tr th:only-of-type {\n",
       "        vertical-align: middle;\n",
       "    }\n",
       "\n",
       "    .dataframe tbody tr th {\n",
       "        vertical-align: top;\n",
       "    }\n",
       "\n",
       "    .dataframe thead th {\n",
       "        text-align: right;\n",
       "    }\n",
       "</style>\n",
       "<table border=\"1\" class=\"dataframe\">\n",
       "  <thead>\n",
       "    <tr style=\"text-align: right;\">\n",
       "      <th></th>\n",
       "      <th>airline</th>\n",
       "      <th>sentiment_negative</th>\n",
       "      <th>sentiment_neutral</th>\n",
       "      <th>sentiment_positive</th>\n",
       "      <th>percent_positive</th>\n",
       "      <th>percent_negative</th>\n",
       "      <th>total_reviews</th>\n",
       "    </tr>\n",
       "  </thead>\n",
       "  <tbody>\n",
       "    <tr>\n",
       "      <th>5</th>\n",
       "      <td>Virgin America</td>\n",
       "      <td>181</td>\n",
       "      <td>171</td>\n",
       "      <td>152</td>\n",
       "      <td>0.30</td>\n",
       "      <td>0.36</td>\n",
       "      <td>504</td>\n",
       "    </tr>\n",
       "    <tr>\n",
       "      <th>1</th>\n",
       "      <td>Delta</td>\n",
       "      <td>955</td>\n",
       "      <td>723</td>\n",
       "      <td>544</td>\n",
       "      <td>0.24</td>\n",
       "      <td>0.43</td>\n",
       "      <td>2222</td>\n",
       "    </tr>\n",
       "    <tr>\n",
       "      <th>2</th>\n",
       "      <td>Southwest</td>\n",
       "      <td>1186</td>\n",
       "      <td>664</td>\n",
       "      <td>570</td>\n",
       "      <td>0.24</td>\n",
       "      <td>0.49</td>\n",
       "      <td>2420</td>\n",
       "    </tr>\n",
       "    <tr>\n",
       "      <th>4</th>\n",
       "      <td>United</td>\n",
       "      <td>2633</td>\n",
       "      <td>697</td>\n",
       "      <td>492</td>\n",
       "      <td>0.13</td>\n",
       "      <td>0.69</td>\n",
       "      <td>3822</td>\n",
       "    </tr>\n",
       "    <tr>\n",
       "      <th>0</th>\n",
       "      <td>American</td>\n",
       "      <td>1960</td>\n",
       "      <td>463</td>\n",
       "      <td>336</td>\n",
       "      <td>0.12</td>\n",
       "      <td>0.71</td>\n",
       "      <td>2759</td>\n",
       "    </tr>\n",
       "    <tr>\n",
       "      <th>3</th>\n",
       "      <td>US Airways</td>\n",
       "      <td>2263</td>\n",
       "      <td>381</td>\n",
       "      <td>269</td>\n",
       "      <td>0.09</td>\n",
       "      <td>0.78</td>\n",
       "      <td>2913</td>\n",
       "    </tr>\n",
       "  </tbody>\n",
       "</table>\n",
       "</div>"
      ],
      "text/plain": [
       "          airline  sentiment_negative  sentiment_neutral  sentiment_positive  \\\n",
       "5  Virgin America                 181                171                 152   \n",
       "1           Delta                 955                723                 544   \n",
       "2       Southwest                1186                664                 570   \n",
       "4          United                2633                697                 492   \n",
       "0        American                1960                463                 336   \n",
       "3      US Airways                2263                381                 269   \n",
       "\n",
       "   percent_positive  percent_negative  total_reviews  \n",
       "5              0.30              0.36            504  \n",
       "1              0.24              0.43           2222  \n",
       "2              0.24              0.49           2420  \n",
       "4              0.13              0.69           3822  \n",
       "0              0.12              0.71           2759  \n",
       "3              0.09              0.78           2913  "
      ]
     },
     "execution_count": 178,
     "metadata": {},
     "output_type": "execute_result"
    }
   ],
   "source": [
    "compare"
   ]
  },
  {
   "cell_type": "code",
   "execution_count": 107,
   "id": "c43cda63",
   "metadata": {
    "scrolled": false
   },
   "outputs": [
    {
     "data": {
      "image/png": "[encoded data removed]",
      "text/plain": [
       "<Figure size 640x480 with 1 Axes>"
      ]
     },
     "metadata": {},
     "output_type": "display_data"
    }
   ],
   "source": [
    "# Sort values\n",
    "compare = compare.sort_values(by='percent_positive')\n",
    "\n",
    "# Create bar plot of airlines represented in dataset\n",
    "sns.barplot(compare, x = 'percent_positive', y = 'airline').set_title('Percentage of Positive Reviews by Airline')\n",
    "plt.show()"
   ]
  },
  {
   "cell_type": "code",
   "execution_count": 111,
   "id": "5daf3e20",
   "metadata": {},
   "outputs": [
    {
     "data": {
      "image/png": "[encoded data removed]",
      "text/plain": [
       "<Figure size 640x480 with 1 Axes>"
      ]
     },
     "metadata": {},
     "output_type": "display_data"
    }
   ],
   "source": [
    "# Sort values\n",
    "compare = compare.sort_values(by='percent_negative')\n",
    "\n",
    "# Create bar plot of airlines represented in dataset\n",
    "sns.barplot(compare, x = 'percent_negative', y = 'airline').set_title('Percentage of Negative Reviews by Airline')\n",
    "plt.show()"
   ]
  },
  {
   "cell_type": "code",
   "execution_count": 112,
   "id": "d8ab6b79",
   "metadata": {},
   "outputs": [
    {
     "data": {
      "text/plain": [
       "Index(['airline', 'sentiment_negative', 'sentiment_neutral',\n",
       "       'sentiment_positive', 'percent_positive', 'percent_negative',\n",
       "       'total_reviews'],\n",
       "      dtype='object')"
      ]
     },
     "execution_count": 112,
     "metadata": {},
     "output_type": "execute_result"
    }
   ],
   "source": [
    "compare.columns"
   ]
  },
  {
   "cell_type": "markdown",
   "id": "165127e6",
   "metadata": {},
   "source": [
    "# Preprocessing"
   ]
  },
  {
   "cell_type": "code",
   "execution_count": 113,
   "id": "0e3d9393",
   "metadata": {},
   "outputs": [],
   "source": [
    "# Removing lowercase all texts\n",
    "df['clean'] = df['text'].str.lower()\n",
    "df['clean'] = df['clean'].str.strip()"
   ]
  },
  {
   "cell_type": "markdown",
   "id": "f506c09d",
   "metadata": {},
   "source": [
    "### Remove URLS"
   ]
  },
  {
   "cell_type": "code",
   "execution_count": 114,
   "id": "e443c6f4",
   "metadata": {},
   "outputs": [
    {
     "name": "stdout",
     "output_type": "stream",
     "text": [
      "7                                     @virginamerica really missed a prime opportunity for men without hats parody, there. https://t.co/mwpg7grezp\n",
      "13    @virginamerica @virginmedia i'm flying your #fabulous #seductive skies again! u take all the #stress away from travel http://t.co/ahlxhhkiyn\n",
      "21                                                                                      @virginamerica i love this graphic. http://t.co/ut5grrwaaa\n",
      "34             @virginamerica this is great news!  america could start flights to hawaii by end of year http://t.co/r8p2zy3fe4 via @pacificbiznews\n",
      "35    nice rt @virginamerica: vibe with the moodlight from takeoff to touchdown. #moodlitmonday #sciencebehindtheexperience http://t.co/y7o0unxtqp\n",
      "Name: clean, dtype: object\n"
     ]
    }
   ],
   "source": [
    "# See url tweets\n",
    "pd.set_option('display.max_colwidth', None)\n",
    "links = df[df['clean'].str.contains('http')]\n",
    "print(links['clean'][:5])"
   ]
  },
  {
   "cell_type": "code",
   "execution_count": 115,
   "id": "b3ad510e",
   "metadata": {},
   "outputs": [],
   "source": [
    "# Create function to remove urls\n",
    "def remove_urls(tweet):\n",
    "    # Regex pattern to match URLs\n",
    "    url_pattern = re.compile(r'https?://\\S+|www\\.\\S+')\n",
    "    # Using sub() to remove URLs from the tweet\n",
    "    return url_pattern.sub('', tweet)"
   ]
  },
  {
   "cell_type": "code",
   "execution_count": 116,
   "id": "972ded57",
   "metadata": {},
   "outputs": [],
   "source": [
    "# Use function on clean column of tweets\n",
    "df['clean'] = df['clean'].apply(remove_urls)"
   ]
  },
  {
   "cell_type": "code",
   "execution_count": 117,
   "id": "f4f05ac1",
   "metadata": {},
   "outputs": [
    {
     "name": "stdout",
     "output_type": "stream",
     "text": [
      "Series([], Name: clean, dtype: object)\n"
     ]
    }
   ],
   "source": [
    "# Check for urls\n",
    "pd.set_option('display.max_colwidth', None)\n",
    "links = df[df['clean'].str.contains('http')]\n",
    "print(links['clean'])"
   ]
  },
  {
   "cell_type": "markdown",
   "id": "482adc3b",
   "metadata": {},
   "source": [
    "### Remove User Handles"
   ]
  },
  {
   "cell_type": "code",
   "execution_count": 118,
   "id": "dd88cabc",
   "metadata": {},
   "outputs": [],
   "source": [
    "# Create function to remove twitter handles\n",
    "def remove_handles(tweet):\n",
    "    return re.sub(r'@(\\w+)', '', tweet)"
   ]
  },
  {
   "cell_type": "code",
   "execution_count": 119,
   "id": "f498cac8",
   "metadata": {},
   "outputs": [],
   "source": [
    "# Apply function\n",
    "df['clean'] = df['clean'].apply(remove_handles)"
   ]
  },
  {
   "cell_type": "code",
   "execution_count": 120,
   "id": "6c530edf",
   "metadata": {},
   "outputs": [
    {
     "data": {
      "text/html": [
       "<div>\n",
       "<style scoped>\n",
       "    .dataframe tbody tr th:only-of-type {\n",
       "        vertical-align: middle;\n",
       "    }\n",
       "\n",
       "    .dataframe tbody tr th {\n",
       "        vertical-align: top;\n",
       "    }\n",
       "\n",
       "    .dataframe thead th {\n",
       "        text-align: right;\n",
       "    }\n",
       "</style>\n",
       "<table border=\"1\" class=\"dataframe\">\n",
       "  <thead>\n",
       "    <tr style=\"text-align: right;\">\n",
       "      <th></th>\n",
       "      <th>text</th>\n",
       "      <th>clean</th>\n",
       "    </tr>\n",
       "  </thead>\n",
       "  <tbody>\n",
       "    <tr>\n",
       "      <th>0</th>\n",
       "      <td>@VirginAmerica What @dhepburn said.</td>\n",
       "      <td>what  said.</td>\n",
       "    </tr>\n",
       "    <tr>\n",
       "      <th>1</th>\n",
       "      <td>@VirginAmerica plus you've added commercials to the experience... tacky.</td>\n",
       "      <td>plus you've added commercials to the experience... tacky.</td>\n",
       "    </tr>\n",
       "    <tr>\n",
       "      <th>2</th>\n",
       "      <td>@VirginAmerica I didn't today... Must mean I need to take another trip!</td>\n",
       "      <td>i didn't today... must mean i need to take another trip!</td>\n",
       "    </tr>\n",
       "    <tr>\n",
       "      <th>3</th>\n",
       "      <td>@VirginAmerica it's really aggressive to blast obnoxious \"entertainment\" in your guests' faces &amp;amp; they have little recourse</td>\n",
       "      <td>it's really aggressive to blast obnoxious \"entertainment\" in your guests' faces &amp;amp; they have little recourse</td>\n",
       "    </tr>\n",
       "    <tr>\n",
       "      <th>4</th>\n",
       "      <td>@VirginAmerica and it's a really big bad thing about it</td>\n",
       "      <td>and it's a really big bad thing about it</td>\n",
       "    </tr>\n",
       "  </tbody>\n",
       "</table>\n",
       "</div>"
      ],
      "text/plain": [
       "                                                                                                                             text  \\\n",
       "0                                                                                             @VirginAmerica What @dhepburn said.   \n",
       "1                                                        @VirginAmerica plus you've added commercials to the experience... tacky.   \n",
       "2                                                         @VirginAmerica I didn't today... Must mean I need to take another trip!   \n",
       "3  @VirginAmerica it's really aggressive to blast obnoxious \"entertainment\" in your guests' faces &amp; they have little recourse   \n",
       "4                                                                         @VirginAmerica and it's a really big bad thing about it   \n",
       "\n",
       "                                                                                                              clean  \n",
       "0                                                                                                       what  said.  \n",
       "1                                                         plus you've added commercials to the experience... tacky.  \n",
       "2                                                          i didn't today... must mean i need to take another trip!  \n",
       "3   it's really aggressive to blast obnoxious \"entertainment\" in your guests' faces &amp; they have little recourse  \n",
       "4                                                                          and it's a really big bad thing about it  "
      ]
     },
     "execution_count": 120,
     "metadata": {},
     "output_type": "execute_result"
    }
   ],
   "source": [
    "# Check handles were removed\n",
    "df[['text','clean']].head()"
   ]
  },
  {
   "cell_type": "markdown",
   "id": "571a7792",
   "metadata": {},
   "source": [
    "### Remove Stopwords"
   ]
  },
  {
   "cell_type": "code",
   "execution_count": 121,
   "id": "b899bf17",
   "metadata": {},
   "outputs": [],
   "source": [
    "# Remove stop words\n",
    "def remove_stopwords(tweet):\n",
    "    words = tweet.split()\n",
    "    # Remove stopwords\n",
    "    stop_words = set(stopwords.words('english'))\n",
    "    filtered_words = [word for word in words if word not in stop_words]\n",
    "    # Join the filtered words back into a string\n",
    "    return ' '.join(filtered_words)"
   ]
  },
  {
   "cell_type": "code",
   "execution_count": 122,
   "id": "b7a0370c",
   "metadata": {},
   "outputs": [],
   "source": [
    "# Apply the remove_stopwords function to the 'tweets' column\n",
    "df['clean'] = df['clean'].apply(remove_stopwords)"
   ]
  },
  {
   "cell_type": "code",
   "execution_count": 123,
   "id": "d2762c65",
   "metadata": {},
   "outputs": [
    {
     "data": {
      "text/html": [
       "<div>\n",
       "<style scoped>\n",
       "    .dataframe tbody tr th:only-of-type {\n",
       "        vertical-align: middle;\n",
       "    }\n",
       "\n",
       "    .dataframe tbody tr th {\n",
       "        vertical-align: top;\n",
       "    }\n",
       "\n",
       "    .dataframe thead th {\n",
       "        text-align: right;\n",
       "    }\n",
       "</style>\n",
       "<table border=\"1\" class=\"dataframe\">\n",
       "  <thead>\n",
       "    <tr style=\"text-align: right;\">\n",
       "      <th></th>\n",
       "      <th>text</th>\n",
       "      <th>clean</th>\n",
       "    </tr>\n",
       "  </thead>\n",
       "  <tbody>\n",
       "    <tr>\n",
       "      <th>0</th>\n",
       "      <td>@VirginAmerica What @dhepburn said.</td>\n",
       "      <td>said.</td>\n",
       "    </tr>\n",
       "    <tr>\n",
       "      <th>1</th>\n",
       "      <td>@VirginAmerica plus you've added commercials to the experience... tacky.</td>\n",
       "      <td>plus added commercials experience... tacky.</td>\n",
       "    </tr>\n",
       "    <tr>\n",
       "      <th>2</th>\n",
       "      <td>@VirginAmerica I didn't today... Must mean I need to take another trip!</td>\n",
       "      <td>today... must mean need take another trip!</td>\n",
       "    </tr>\n",
       "    <tr>\n",
       "      <th>3</th>\n",
       "      <td>@VirginAmerica it's really aggressive to blast obnoxious \"entertainment\" in your guests' faces &amp;amp; they have little recourse</td>\n",
       "      <td>really aggressive blast obnoxious \"entertainment\" guests' faces &amp;amp; little recourse</td>\n",
       "    </tr>\n",
       "    <tr>\n",
       "      <th>4</th>\n",
       "      <td>@VirginAmerica and it's a really big bad thing about it</td>\n",
       "      <td>really big bad thing</td>\n",
       "    </tr>\n",
       "  </tbody>\n",
       "</table>\n",
       "</div>"
      ],
      "text/plain": [
       "                                                                                                                             text  \\\n",
       "0                                                                                             @VirginAmerica What @dhepburn said.   \n",
       "1                                                        @VirginAmerica plus you've added commercials to the experience... tacky.   \n",
       "2                                                         @VirginAmerica I didn't today... Must mean I need to take another trip!   \n",
       "3  @VirginAmerica it's really aggressive to blast obnoxious \"entertainment\" in your guests' faces &amp; they have little recourse   \n",
       "4                                                                         @VirginAmerica and it's a really big bad thing about it   \n",
       "\n",
       "                                                                                   clean  \n",
       "0                                                                                  said.  \n",
       "1                                            plus added commercials experience... tacky.  \n",
       "2                                             today... must mean need take another trip!  \n",
       "3  really aggressive blast obnoxious \"entertainment\" guests' faces &amp; little recourse  \n",
       "4                                                                   really big bad thing  "
      ]
     },
     "execution_count": 123,
     "metadata": {},
     "output_type": "execute_result"
    }
   ],
   "source": [
    "# Check results\n",
    "df[['text','clean']].head()"
   ]
  },
  {
   "cell_type": "markdown",
   "id": "e3f20a6f",
   "metadata": {},
   "source": [
    "### Remove Special Characters"
   ]
  },
  {
   "cell_type": "code",
   "execution_count": 124,
   "id": "ae35bf25",
   "metadata": {},
   "outputs": [],
   "source": [
    "# Create function to remove special characters, quotes, and keep (!?)\n",
    "def clean_characters(tweet):\n",
    "    # Remove special characters (except exclamation marks and question marks), single quotes, and double quotes\n",
    "    clean_chars = re.sub(r'[^\\w\\s!?]', '', tweet)\n",
    "    return clean_chars"
   ]
  },
  {
   "cell_type": "code",
   "execution_count": 125,
   "id": "69d26d24",
   "metadata": {},
   "outputs": [],
   "source": [
    "# Apply function\n",
    "df['clean'] = df['clean'].apply(clean_characters)"
   ]
  },
  {
   "cell_type": "code",
   "execution_count": 126,
   "id": "9209c378",
   "metadata": {},
   "outputs": [
    {
     "data": {
      "text/html": [
       "<div>\n",
       "<style scoped>\n",
       "    .dataframe tbody tr th:only-of-type {\n",
       "        vertical-align: middle;\n",
       "    }\n",
       "\n",
       "    .dataframe tbody tr th {\n",
       "        vertical-align: top;\n",
       "    }\n",
       "\n",
       "    .dataframe thead th {\n",
       "        text-align: right;\n",
       "    }\n",
       "</style>\n",
       "<table border=\"1\" class=\"dataframe\">\n",
       "  <thead>\n",
       "    <tr style=\"text-align: right;\">\n",
       "      <th></th>\n",
       "      <th>text</th>\n",
       "      <th>clean</th>\n",
       "    </tr>\n",
       "  </thead>\n",
       "  <tbody>\n",
       "    <tr>\n",
       "      <th>0</th>\n",
       "      <td>@VirginAmerica What @dhepburn said.</td>\n",
       "      <td>said</td>\n",
       "    </tr>\n",
       "    <tr>\n",
       "      <th>1</th>\n",
       "      <td>@VirginAmerica plus you've added commercials to the experience... tacky.</td>\n",
       "      <td>plus added commercials experience tacky</td>\n",
       "    </tr>\n",
       "    <tr>\n",
       "      <th>2</th>\n",
       "      <td>@VirginAmerica I didn't today... Must mean I need to take another trip!</td>\n",
       "      <td>today must mean need take another trip!</td>\n",
       "    </tr>\n",
       "    <tr>\n",
       "      <th>3</th>\n",
       "      <td>@VirginAmerica it's really aggressive to blast obnoxious \"entertainment\" in your guests' faces &amp;amp; they have little recourse</td>\n",
       "      <td>really aggressive blast obnoxious entertainment guests faces amp little recourse</td>\n",
       "    </tr>\n",
       "    <tr>\n",
       "      <th>4</th>\n",
       "      <td>@VirginAmerica and it's a really big bad thing about it</td>\n",
       "      <td>really big bad thing</td>\n",
       "    </tr>\n",
       "  </tbody>\n",
       "</table>\n",
       "</div>"
      ],
      "text/plain": [
       "                                                                                                                             text  \\\n",
       "0                                                                                             @VirginAmerica What @dhepburn said.   \n",
       "1                                                        @VirginAmerica plus you've added commercials to the experience... tacky.   \n",
       "2                                                         @VirginAmerica I didn't today... Must mean I need to take another trip!   \n",
       "3  @VirginAmerica it's really aggressive to blast obnoxious \"entertainment\" in your guests' faces &amp; they have little recourse   \n",
       "4                                                                         @VirginAmerica and it's a really big bad thing about it   \n",
       "\n",
       "                                                                              clean  \n",
       "0                                                                              said  \n",
       "1                                           plus added commercials experience tacky  \n",
       "2                                           today must mean need take another trip!  \n",
       "3  really aggressive blast obnoxious entertainment guests faces amp little recourse  \n",
       "4                                                              really big bad thing  "
      ]
     },
     "execution_count": 126,
     "metadata": {},
     "output_type": "execute_result"
    }
   ],
   "source": [
    "# Check results\n",
    "df[['text','clean']].head()"
   ]
  },
  {
   "cell_type": "markdown",
   "id": "2ba842c5",
   "metadata": {},
   "source": [
    "### Visualize Tweet Lengths Before and After Cleaning"
   ]
  },
  {
   "cell_type": "code",
   "execution_count": 127,
   "id": "0be813ab",
   "metadata": {},
   "outputs": [
    {
     "data": {
      "text/plain": [
       "Index(['tweet_id', 'sentiment', 'confidence', 'airline', 'retweets', 'text',\n",
       "       'clean'],\n",
       "      dtype='object')"
      ]
     },
     "execution_count": 127,
     "metadata": {},
     "output_type": "execute_result"
    }
   ],
   "source": [
    "df.columns"
   ]
  },
  {
   "cell_type": "code",
   "execution_count": 128,
   "id": "2a01705a",
   "metadata": {},
   "outputs": [
    {
     "data": {
      "text/html": [
       "<div>\n",
       "<style scoped>\n",
       "    .dataframe tbody tr th:only-of-type {\n",
       "        vertical-align: middle;\n",
       "    }\n",
       "\n",
       "    .dataframe tbody tr th {\n",
       "        vertical-align: top;\n",
       "    }\n",
       "\n",
       "    .dataframe thead th {\n",
       "        text-align: right;\n",
       "    }\n",
       "</style>\n",
       "<table border=\"1\" class=\"dataframe\">\n",
       "  <thead>\n",
       "    <tr style=\"text-align: right;\">\n",
       "      <th></th>\n",
       "      <th>clean</th>\n",
       "      <th>sentiment</th>\n",
       "      <th>length</th>\n",
       "    </tr>\n",
       "  </thead>\n",
       "  <tbody>\n",
       "    <tr>\n",
       "      <th>0</th>\n",
       "      <td>said</td>\n",
       "      <td>neutral</td>\n",
       "      <td>4</td>\n",
       "    </tr>\n",
       "    <tr>\n",
       "      <th>1</th>\n",
       "      <td>plus added commercials experience tacky</td>\n",
       "      <td>positive</td>\n",
       "      <td>39</td>\n",
       "    </tr>\n",
       "    <tr>\n",
       "      <th>2</th>\n",
       "      <td>today must mean need take another trip!</td>\n",
       "      <td>neutral</td>\n",
       "      <td>39</td>\n",
       "    </tr>\n",
       "    <tr>\n",
       "      <th>3</th>\n",
       "      <td>really aggressive blast obnoxious entertainment guests faces amp little recourse</td>\n",
       "      <td>negative</td>\n",
       "      <td>80</td>\n",
       "    </tr>\n",
       "    <tr>\n",
       "      <th>4</th>\n",
       "      <td>really big bad thing</td>\n",
       "      <td>negative</td>\n",
       "      <td>20</td>\n",
       "    </tr>\n",
       "  </tbody>\n",
       "</table>\n",
       "</div>"
      ],
      "text/plain": [
       "                                                                              clean  \\\n",
       "0                                                                              said   \n",
       "1                                           plus added commercials experience tacky   \n",
       "2                                           today must mean need take another trip!   \n",
       "3  really aggressive blast obnoxious entertainment guests faces amp little recourse   \n",
       "4                                                              really big bad thing   \n",
       "\n",
       "  sentiment  length  \n",
       "0   neutral       4  \n",
       "1  positive      39  \n",
       "2   neutral      39  \n",
       "3  negative      80  \n",
       "4  negative      20  "
      ]
     },
     "execution_count": 128,
     "metadata": {},
     "output_type": "execute_result"
    }
   ],
   "source": [
    "# Gets tweet lengths and sentiment to plot\n",
    "cln_len = df.loc[:,['clean','sentiment']]\n",
    "raw_len = df.loc[:,['text','sentiment']]\n",
    "\n",
    "# Add new column including length of tweet\n",
    "cln_len['length'] = cln_len['clean'].apply(len)\n",
    "raw_len['length'] = raw_len['text'].apply(len)\n",
    "\n",
    "cln_len.head()"
   ]
  },
  {
   "cell_type": "code",
   "execution_count": 129,
   "id": "5915f4d3",
   "metadata": {},
   "outputs": [
    {
     "data": {
      "text/html": [
       "<div>\n",
       "<style scoped>\n",
       "    .dataframe tbody tr th:only-of-type {\n",
       "        vertical-align: middle;\n",
       "    }\n",
       "\n",
       "    .dataframe tbody tr th {\n",
       "        vertical-align: top;\n",
       "    }\n",
       "\n",
       "    .dataframe thead th {\n",
       "        text-align: right;\n",
       "    }\n",
       "</style>\n",
       "<table border=\"1\" class=\"dataframe\">\n",
       "  <thead>\n",
       "    <tr style=\"text-align: right;\">\n",
       "      <th></th>\n",
       "      <th>text</th>\n",
       "      <th>sentiment</th>\n",
       "      <th>length</th>\n",
       "    </tr>\n",
       "  </thead>\n",
       "  <tbody>\n",
       "    <tr>\n",
       "      <th>0</th>\n",
       "      <td>@VirginAmerica What @dhepburn said.</td>\n",
       "      <td>neutral</td>\n",
       "      <td>35</td>\n",
       "    </tr>\n",
       "    <tr>\n",
       "      <th>1</th>\n",
       "      <td>@VirginAmerica plus you've added commercials to the experience... tacky.</td>\n",
       "      <td>positive</td>\n",
       "      <td>72</td>\n",
       "    </tr>\n",
       "    <tr>\n",
       "      <th>2</th>\n",
       "      <td>@VirginAmerica I didn't today... Must mean I need to take another trip!</td>\n",
       "      <td>neutral</td>\n",
       "      <td>71</td>\n",
       "    </tr>\n",
       "    <tr>\n",
       "      <th>3</th>\n",
       "      <td>@VirginAmerica it's really aggressive to blast obnoxious \"entertainment\" in your guests' faces &amp;amp; they have little recourse</td>\n",
       "      <td>negative</td>\n",
       "      <td>126</td>\n",
       "    </tr>\n",
       "    <tr>\n",
       "      <th>4</th>\n",
       "      <td>@VirginAmerica and it's a really big bad thing about it</td>\n",
       "      <td>negative</td>\n",
       "      <td>55</td>\n",
       "    </tr>\n",
       "  </tbody>\n",
       "</table>\n",
       "</div>"
      ],
      "text/plain": [
       "                                                                                                                             text  \\\n",
       "0                                                                                             @VirginAmerica What @dhepburn said.   \n",
       "1                                                        @VirginAmerica plus you've added commercials to the experience... tacky.   \n",
       "2                                                         @VirginAmerica I didn't today... Must mean I need to take another trip!   \n",
       "3  @VirginAmerica it's really aggressive to blast obnoxious \"entertainment\" in your guests' faces &amp; they have little recourse   \n",
       "4                                                                         @VirginAmerica and it's a really big bad thing about it   \n",
       "\n",
       "  sentiment  length  \n",
       "0   neutral      35  \n",
       "1  positive      72  \n",
       "2   neutral      71  \n",
       "3  negative     126  \n",
       "4  negative      55  "
      ]
     },
     "execution_count": 129,
     "metadata": {},
     "output_type": "execute_result"
    }
   ],
   "source": [
    "raw_len.head()"
   ]
  },
  {
   "cell_type": "code",
   "execution_count": 130,
   "id": "de25fb8c",
   "metadata": {},
   "outputs": [
    {
     "data": {
      "image/png": "[encoded data removed]",
      "text/plain": [
       "<Figure size 640x480 with 1 Axes>"
      ]
     },
     "metadata": {},
     "output_type": "display_data"
    }
   ],
   "source": [
    "# Visualize Tweet Lengths Before Cleaning\n",
    "fig = sns.histplot(data = raw_len, \n",
    "             x='length', \n",
    "             hue = 'sentiment')\n",
    "fig.set_title('Tweet Lengths by Sentiment Before Cleaning')\n",
    "plt.show()"
   ]
  },
  {
   "cell_type": "code",
   "execution_count": 131,
   "id": "efa45df3",
   "metadata": {},
   "outputs": [
    {
     "data": {
      "image/png": "[encoded data removed]",
      "text/plain": [
       "<Figure size 640x480 with 1 Axes>"
      ]
     },
     "metadata": {},
     "output_type": "display_data"
    }
   ],
   "source": [
    "# Visualize Tweet Lengths After Cleaning\n",
    "fig = sns.histplot(data = cln_len, \n",
    "             x='length', \n",
    "             hue = 'sentiment')\n",
    "fig.set_title('Tweet Lengths by Sentiment After Cleaning')\n",
    "plt.show()"
   ]
  },
  {
   "cell_type": "code",
   "execution_count": 132,
   "id": "0360bfc9",
   "metadata": {},
   "outputs": [
    {
     "data": {
      "text/plain": [
       "count    14640.000000\n",
       "mean        60.796038\n",
       "std         26.623136\n",
       "min          0.000000\n",
       "25%         40.000000\n",
       "50%         64.000000\n",
       "75%         82.000000\n",
       "max        139.000000\n",
       "Name: length, dtype: float64"
      ]
     },
     "execution_count": 132,
     "metadata": {},
     "output_type": "execute_result"
    }
   ],
   "source": [
    "# Get min and max length of cleaned text\n",
    "cln_len['length'].describe()"
   ]
  },
  {
   "cell_type": "markdown",
   "id": "6649eeb0",
   "metadata": {},
   "source": [
    "### Drop rows with minimal text content"
   ]
  },
  {
   "cell_type": "code",
   "execution_count": 133,
   "id": "bcc4dea0",
   "metadata": {},
   "outputs": [
    {
     "data": {
      "text/html": [
       "<div>\n",
       "<style scoped>\n",
       "    .dataframe tbody tr th:only-of-type {\n",
       "        vertical-align: middle;\n",
       "    }\n",
       "\n",
       "    .dataframe tbody tr th {\n",
       "        vertical-align: top;\n",
       "    }\n",
       "\n",
       "    .dataframe thead th {\n",
       "        text-align: right;\n",
       "    }\n",
       "</style>\n",
       "<table border=\"1\" class=\"dataframe\">\n",
       "  <thead>\n",
       "    <tr style=\"text-align: right;\">\n",
       "      <th></th>\n",
       "      <th>tweet_id</th>\n",
       "      <th>sentiment</th>\n",
       "      <th>confidence</th>\n",
       "      <th>airline</th>\n",
       "      <th>retweets</th>\n",
       "      <th>text</th>\n",
       "      <th>clean</th>\n",
       "    </tr>\n",
       "  </thead>\n",
       "  <tbody>\n",
       "    <tr>\n",
       "      <th>179</th>\n",
       "      <td>569324558999691264</td>\n",
       "      <td>neutral</td>\n",
       "      <td>0.6701</td>\n",
       "      <td>Virgin America</td>\n",
       "      <td>0</td>\n",
       "      <td>@VirginAmerica @TTINAC11 I DM you</td>\n",
       "      <td>dm</td>\n",
       "    </tr>\n",
       "    <tr>\n",
       "      <th>784</th>\n",
       "      <td>570082243596591104</td>\n",
       "      <td>neutral</td>\n",
       "      <td>0.6533</td>\n",
       "      <td>United</td>\n",
       "      <td>0</td>\n",
       "      <td>@united @luke_mcintosh68 nah you wouldn't</td>\n",
       "      <td>nah</td>\n",
       "    </tr>\n",
       "    <tr>\n",
       "      <th>1644</th>\n",
       "      <td>569637147067551746</td>\n",
       "      <td>negative</td>\n",
       "      <td>0.6484</td>\n",
       "      <td>United</td>\n",
       "      <td>0</td>\n",
       "      <td>@united now this http://t.co/uygeW2Nosr</td>\n",
       "      <td></td>\n",
       "    </tr>\n",
       "    <tr>\n",
       "      <th>2113</th>\n",
       "      <td>569363796113764352</td>\n",
       "      <td>negative</td>\n",
       "      <td>0.6809</td>\n",
       "      <td>United</td>\n",
       "      <td>0</td>\n",
       "      <td>@united just DM'd</td>\n",
       "      <td>dmd</td>\n",
       "    </tr>\n",
       "    <tr>\n",
       "      <th>2607</th>\n",
       "      <td>569004759069421568</td>\n",
       "      <td>negative</td>\n",
       "      <td>1.0000</td>\n",
       "      <td>United</td>\n",
       "      <td>0</td>\n",
       "      <td>@united no u don't</td>\n",
       "      <td>u</td>\n",
       "    </tr>\n",
       "    <tr>\n",
       "      <th>3485</th>\n",
       "      <td>568390014238916608</td>\n",
       "      <td>neutral</td>\n",
       "      <td>1.0000</td>\n",
       "      <td>United</td>\n",
       "      <td>0</td>\n",
       "      <td>@united for a fee...</td>\n",
       "      <td>fee</td>\n",
       "    </tr>\n",
       "    <tr>\n",
       "      <th>3611</th>\n",
       "      <td>568234670166568960</td>\n",
       "      <td>negative</td>\n",
       "      <td>0.6838</td>\n",
       "      <td>United</td>\n",
       "      <td>0</td>\n",
       "      <td>@united yes I have</td>\n",
       "      <td>yes</td>\n",
       "    </tr>\n",
       "    <tr>\n",
       "      <th>4612</th>\n",
       "      <td>569980137346707456</td>\n",
       "      <td>neutral</td>\n",
       "      <td>0.6774</td>\n",
       "      <td>Southwest</td>\n",
       "      <td>0</td>\n",
       "      <td>@SouthwestAir Why do you have to be 18 😭</td>\n",
       "      <td>18</td>\n",
       "    </tr>\n",
       "    <tr>\n",
       "      <th>5333</th>\n",
       "      <td>569184833361936387</td>\n",
       "      <td>neutral</td>\n",
       "      <td>0.6843</td>\n",
       "      <td>Southwest</td>\n",
       "      <td>0</td>\n",
       "      <td>@SouthwestAir I DM'd you</td>\n",
       "      <td>dmd</td>\n",
       "    </tr>\n",
       "    <tr>\n",
       "      <th>5655</th>\n",
       "      <td>568830255282040832</td>\n",
       "      <td>neutral</td>\n",
       "      <td>1.0000</td>\n",
       "      <td>Southwest</td>\n",
       "      <td>0</td>\n",
       "      <td>@SouthwestAir  I will dm you now</td>\n",
       "      <td>dm</td>\n",
       "    </tr>\n",
       "    <tr>\n",
       "      <th>5658</th>\n",
       "      <td>568829686257623040</td>\n",
       "      <td>neutral</td>\n",
       "      <td>0.6555</td>\n",
       "      <td>Southwest</td>\n",
       "      <td>0</td>\n",
       "      <td>@SouthwestAir is that @MurraySawChuck</td>\n",
       "      <td></td>\n",
       "    </tr>\n",
       "    <tr>\n",
       "      <th>5954</th>\n",
       "      <td>568463093568835584</td>\n",
       "      <td>neutral</td>\n",
       "      <td>0.6692</td>\n",
       "      <td>Southwest</td>\n",
       "      <td>0</td>\n",
       "      <td>@SouthwestAir yes can do</td>\n",
       "      <td>yes</td>\n",
       "    </tr>\n",
       "    <tr>\n",
       "      <th>6295</th>\n",
       "      <td>568077464892628993</td>\n",
       "      <td>negative</td>\n",
       "      <td>0.6535</td>\n",
       "      <td>Southwest</td>\n",
       "      <td>0</td>\n",
       "      <td>@SouthwestAir No I have not.</td>\n",
       "      <td>not</td>\n",
       "    </tr>\n",
       "    <tr>\n",
       "      <th>6538</th>\n",
       "      <td>567791323597524992</td>\n",
       "      <td>neutral</td>\n",
       "      <td>1.0000</td>\n",
       "      <td>Southwest</td>\n",
       "      <td>0</td>\n",
       "      <td>@SouthwestAir what is DM?</td>\n",
       "      <td>dm?</td>\n",
       "    </tr>\n",
       "    <tr>\n",
       "      <th>6897</th>\n",
       "      <td>570048915518533634</td>\n",
       "      <td>neutral</td>\n",
       "      <td>0.6514</td>\n",
       "      <td>Delta</td>\n",
       "      <td>0</td>\n",
       "      <td>@JetBlue or she ;)</td>\n",
       "      <td></td>\n",
       "    </tr>\n",
       "    <tr>\n",
       "      <th>6947</th>\n",
       "      <td>570000249910996992</td>\n",
       "      <td>neutral</td>\n",
       "      <td>0.6639</td>\n",
       "      <td>Delta</td>\n",
       "      <td>0</td>\n",
       "      <td>@JetBlue @BucketObolts Same</td>\n",
       "      <td></td>\n",
       "    </tr>\n",
       "    <tr>\n",
       "      <th>7051</th>\n",
       "      <td>569947367203450880</td>\n",
       "      <td>neutral</td>\n",
       "      <td>1.0000</td>\n",
       "      <td>Delta</td>\n",
       "      <td>0</td>\n",
       "      <td>@JetBlue why bro</td>\n",
       "      <td>bro</td>\n",
       "    </tr>\n",
       "    <tr>\n",
       "      <th>7173</th>\n",
       "      <td>569921467552567296</td>\n",
       "      <td>positive</td>\n",
       "      <td>0.6592</td>\n",
       "      <td>Delta</td>\n",
       "      <td>0</td>\n",
       "      <td>@JetBlue you bet:)</td>\n",
       "      <td>bet</td>\n",
       "    </tr>\n",
       "    <tr>\n",
       "      <th>7358</th>\n",
       "      <td>569646269221773312</td>\n",
       "      <td>negative</td>\n",
       "      <td>0.6947</td>\n",
       "      <td>Delta</td>\n",
       "      <td>0</td>\n",
       "      <td>@JetBlue all day</td>\n",
       "      <td>day</td>\n",
       "    </tr>\n",
       "    <tr>\n",
       "      <th>7623</th>\n",
       "      <td>569498511609356288</td>\n",
       "      <td>neutral</td>\n",
       "      <td>0.6703</td>\n",
       "      <td>Delta</td>\n",
       "      <td>0</td>\n",
       "      <td>@JetBlue  will do.</td>\n",
       "      <td>do</td>\n",
       "    </tr>\n",
       "    <tr>\n",
       "      <th>8452</th>\n",
       "      <td>568244071770296320</td>\n",
       "      <td>neutral</td>\n",
       "      <td>0.6742</td>\n",
       "      <td>Delta</td>\n",
       "      <td>0</td>\n",
       "      <td>@JetBlue I cri</td>\n",
       "      <td>cri</td>\n",
       "    </tr>\n",
       "    <tr>\n",
       "      <th>8558</th>\n",
       "      <td>568166479327313920</td>\n",
       "      <td>neutral</td>\n",
       "      <td>1.0000</td>\n",
       "      <td>Delta</td>\n",
       "      <td>0</td>\n",
       "      <td>@JetBlue can you DM?</td>\n",
       "      <td>dm?</td>\n",
       "    </tr>\n",
       "    <tr>\n",
       "      <th>10735</th>\n",
       "      <td>568924897575088130</td>\n",
       "      <td>negative</td>\n",
       "      <td>1.0000</td>\n",
       "      <td>US Airways</td>\n",
       "      <td>0</td>\n",
       "      <td>@USAirways them and @AmericanAir</td>\n",
       "      <td></td>\n",
       "    </tr>\n",
       "    <tr>\n",
       "      <th>11109</th>\n",
       "      <td>568499384704479233</td>\n",
       "      <td>positive</td>\n",
       "      <td>0.3733</td>\n",
       "      <td>US Airways</td>\n",
       "      <td>0</td>\n",
       "      <td>@USAirways lol me too</td>\n",
       "      <td>lol</td>\n",
       "    </tr>\n",
       "    <tr>\n",
       "      <th>11257</th>\n",
       "      <td>568273310347165696</td>\n",
       "      <td>positive</td>\n",
       "      <td>0.6802</td>\n",
       "      <td>US Airways</td>\n",
       "      <td>0</td>\n",
       "      <td>@USAirways Will do :)</td>\n",
       "      <td></td>\n",
       "    </tr>\n",
       "    <tr>\n",
       "      <th>11905</th>\n",
       "      <td>570301929580048385</td>\n",
       "      <td>neutral</td>\n",
       "      <td>1.0000</td>\n",
       "      <td>American</td>\n",
       "      <td>0</td>\n",
       "      <td>@AmericanAir I did</td>\n",
       "      <td></td>\n",
       "    </tr>\n",
       "    <tr>\n",
       "      <th>12066</th>\n",
       "      <td>570301929580048385</td>\n",
       "      <td>neutral</td>\n",
       "      <td>1.0000</td>\n",
       "      <td>American</td>\n",
       "      <td>0</td>\n",
       "      <td>@AmericanAir I did</td>\n",
       "      <td></td>\n",
       "    </tr>\n",
       "    <tr>\n",
       "      <th>12209</th>\n",
       "      <td>570263008762601475</td>\n",
       "      <td>neutral</td>\n",
       "      <td>0.6564</td>\n",
       "      <td>American</td>\n",
       "      <td>0</td>\n",
       "      <td>@AmericanAir yes they do http://t.co/wCSAZZQPae</td>\n",
       "      <td>yes</td>\n",
       "    </tr>\n",
       "    <tr>\n",
       "      <th>12553</th>\n",
       "      <td>570109867031191552</td>\n",
       "      <td>negative</td>\n",
       "      <td>0.6603</td>\n",
       "      <td>American</td>\n",
       "      <td>0</td>\n",
       "      <td>@AmericanAir I DM'd you</td>\n",
       "      <td>dmd</td>\n",
       "    </tr>\n",
       "    <tr>\n",
       "      <th>12628</th>\n",
       "      <td>570082819025838080</td>\n",
       "      <td>neutral</td>\n",
       "      <td>1.0000</td>\n",
       "      <td>American</td>\n",
       "      <td>0</td>\n",
       "      <td>@AmericanAir on our way now</td>\n",
       "      <td>way</td>\n",
       "    </tr>\n",
       "    <tr>\n",
       "      <th>12947</th>\n",
       "      <td>569974705811107840</td>\n",
       "      <td>neutral</td>\n",
       "      <td>0.6438</td>\n",
       "      <td>American</td>\n",
       "      <td>0</td>\n",
       "      <td>@AmericanAir it was 639</td>\n",
       "      <td>639</td>\n",
       "    </tr>\n",
       "    <tr>\n",
       "      <th>14196</th>\n",
       "      <td>569655392931876864</td>\n",
       "      <td>neutral</td>\n",
       "      <td>1.0000</td>\n",
       "      <td>American</td>\n",
       "      <td>0</td>\n",
       "      <td>@AmericanAir Here you go https://t.co/oM1vIEg74a</td>\n",
       "      <td>go</td>\n",
       "    </tr>\n",
       "    <tr>\n",
       "      <th>14443</th>\n",
       "      <td>569615540089700353</td>\n",
       "      <td>neutral</td>\n",
       "      <td>1.0000</td>\n",
       "      <td>American</td>\n",
       "      <td>0</td>\n",
       "      <td>@AmericanAir hi how are you</td>\n",
       "      <td>hi</td>\n",
       "    </tr>\n",
       "  </tbody>\n",
       "</table>\n",
       "</div>"
      ],
      "text/plain": [
       "                 tweet_id sentiment  confidence         airline  retweets  \\\n",
       "179    569324558999691264   neutral      0.6701  Virgin America         0   \n",
       "784    570082243596591104   neutral      0.6533          United         0   \n",
       "1644   569637147067551746  negative      0.6484          United         0   \n",
       "2113   569363796113764352  negative      0.6809          United         0   \n",
       "2607   569004759069421568  negative      1.0000          United         0   \n",
       "3485   568390014238916608   neutral      1.0000          United         0   \n",
       "3611   568234670166568960  negative      0.6838          United         0   \n",
       "4612   569980137346707456   neutral      0.6774       Southwest         0   \n",
       "5333   569184833361936387   neutral      0.6843       Southwest         0   \n",
       "5655   568830255282040832   neutral      1.0000       Southwest         0   \n",
       "5658   568829686257623040   neutral      0.6555       Southwest         0   \n",
       "5954   568463093568835584   neutral      0.6692       Southwest         0   \n",
       "6295   568077464892628993  negative      0.6535       Southwest         0   \n",
       "6538   567791323597524992   neutral      1.0000       Southwest         0   \n",
       "6897   570048915518533634   neutral      0.6514           Delta         0   \n",
       "6947   570000249910996992   neutral      0.6639           Delta         0   \n",
       "7051   569947367203450880   neutral      1.0000           Delta         0   \n",
       "7173   569921467552567296  positive      0.6592           Delta         0   \n",
       "7358   569646269221773312  negative      0.6947           Delta         0   \n",
       "7623   569498511609356288   neutral      0.6703           Delta         0   \n",
       "8452   568244071770296320   neutral      0.6742           Delta         0   \n",
       "8558   568166479327313920   neutral      1.0000           Delta         0   \n",
       "10735  568924897575088130  negative      1.0000      US Airways         0   \n",
       "11109  568499384704479233  positive      0.3733      US Airways         0   \n",
       "11257  568273310347165696  positive      0.6802      US Airways         0   \n",
       "11905  570301929580048385   neutral      1.0000        American         0   \n",
       "12066  570301929580048385   neutral      1.0000        American         0   \n",
       "12209  570263008762601475   neutral      0.6564        American         0   \n",
       "12553  570109867031191552  negative      0.6603        American         0   \n",
       "12628  570082819025838080   neutral      1.0000        American         0   \n",
       "12947  569974705811107840   neutral      0.6438        American         0   \n",
       "14196  569655392931876864   neutral      1.0000        American         0   \n",
       "14443  569615540089700353   neutral      1.0000        American         0   \n",
       "\n",
       "                                                   text clean  \n",
       "179                   @VirginAmerica @TTINAC11 I DM you    dm  \n",
       "784           @united @luke_mcintosh68 nah you wouldn't   nah  \n",
       "1644            @united now this http://t.co/uygeW2Nosr        \n",
       "2113                                  @united just DM'd   dmd  \n",
       "2607                                 @united no u don't     u  \n",
       "3485                               @united for a fee...   fee  \n",
       "3611                                 @united yes I have   yes  \n",
       "4612           @SouthwestAir Why do you have to be 18 😭   18   \n",
       "5333                           @SouthwestAir I DM'd you   dmd  \n",
       "5655                   @SouthwestAir  I will dm you now    dm  \n",
       "5658              @SouthwestAir is that @MurraySawChuck        \n",
       "5954                           @SouthwestAir yes can do   yes  \n",
       "6295                       @SouthwestAir No I have not.   not  \n",
       "6538                          @SouthwestAir what is DM?   dm?  \n",
       "6897                                 @JetBlue or she ;)        \n",
       "6947                        @JetBlue @BucketObolts Same        \n",
       "7051                                   @JetBlue why bro   bro  \n",
       "7173                                 @JetBlue you bet:)   bet  \n",
       "7358                                   @JetBlue all day   day  \n",
       "7623                                 @JetBlue  will do.    do  \n",
       "8452                                     @JetBlue I cri   cri  \n",
       "8558                               @JetBlue can you DM?   dm?  \n",
       "10735                  @USAirways them and @AmericanAir        \n",
       "11109                             @USAirways lol me too   lol  \n",
       "11257                             @USAirways Will do :)        \n",
       "11905                                @AmericanAir I did        \n",
       "12066                                @AmericanAir I did        \n",
       "12209   @AmericanAir yes they do http://t.co/wCSAZZQPae   yes  \n",
       "12553                           @AmericanAir I DM'd you   dmd  \n",
       "12628                       @AmericanAir on our way now   way  \n",
       "12947                           @AmericanAir it was 639   639  \n",
       "14196  @AmericanAir Here you go https://t.co/oM1vIEg74a    go  \n",
       "14443                       @AmericanAir hi how are you    hi  "
      ]
     },
     "execution_count": 133,
     "metadata": {},
     "output_type": "execute_result"
    }
   ],
   "source": [
    "df[df['clean'].apply(len)<4]"
   ]
  },
  {
   "cell_type": "code",
   "execution_count": 134,
   "id": "12285f3c",
   "metadata": {},
   "outputs": [],
   "source": [
    "# Drop rows with less than 4 characters\n",
    "df = df[df['clean'].apply(len)>3]"
   ]
  },
  {
   "cell_type": "code",
   "execution_count": 135,
   "id": "348cb392",
   "metadata": {},
   "outputs": [
    {
     "data": {
      "text/plain": [
       "(14607, 7)"
      ]
     },
     "execution_count": 135,
     "metadata": {},
     "output_type": "execute_result"
    }
   ],
   "source": [
    "df.shape"
   ]
  },
  {
   "cell_type": "markdown",
   "id": "0e7b65bf",
   "metadata": {},
   "source": [
    "### Tokenize Tweets"
   ]
  },
  {
   "cell_type": "code",
   "execution_count": 136,
   "id": "213f1a9c",
   "metadata": {},
   "outputs": [
    {
     "data": {
      "text/html": [
       "<div>\n",
       "<style scoped>\n",
       "    .dataframe tbody tr th:only-of-type {\n",
       "        vertical-align: middle;\n",
       "    }\n",
       "\n",
       "    .dataframe tbody tr th {\n",
       "        vertical-align: top;\n",
       "    }\n",
       "\n",
       "    .dataframe thead th {\n",
       "        text-align: right;\n",
       "    }\n",
       "</style>\n",
       "<table border=\"1\" class=\"dataframe\">\n",
       "  <thead>\n",
       "    <tr style=\"text-align: right;\">\n",
       "      <th></th>\n",
       "      <th>text</th>\n",
       "      <th>clean</th>\n",
       "    </tr>\n",
       "  </thead>\n",
       "  <tbody>\n",
       "    <tr>\n",
       "      <th>0</th>\n",
       "      <td>@VirginAmerica What @dhepburn said.</td>\n",
       "      <td>[said]</td>\n",
       "    </tr>\n",
       "    <tr>\n",
       "      <th>1</th>\n",
       "      <td>@VirginAmerica plus you've added commercials to the experience... tacky.</td>\n",
       "      <td>[plus, added, commercials, experience, tacky]</td>\n",
       "    </tr>\n",
       "    <tr>\n",
       "      <th>2</th>\n",
       "      <td>@VirginAmerica I didn't today... Must mean I need to take another trip!</td>\n",
       "      <td>[today, must, mean, need, take, another, trip, !]</td>\n",
       "    </tr>\n",
       "    <tr>\n",
       "      <th>3</th>\n",
       "      <td>@VirginAmerica it's really aggressive to blast obnoxious \"entertainment\" in your guests' faces &amp;amp; they have little recourse</td>\n",
       "      <td>[really, aggressive, blast, obnoxious, entertainment, guests, faces, amp, little, recourse]</td>\n",
       "    </tr>\n",
       "    <tr>\n",
       "      <th>4</th>\n",
       "      <td>@VirginAmerica and it's a really big bad thing about it</td>\n",
       "      <td>[really, big, bad, thing]</td>\n",
       "    </tr>\n",
       "  </tbody>\n",
       "</table>\n",
       "</div>"
      ],
      "text/plain": [
       "                                                                                                                             text  \\\n",
       "0                                                                                             @VirginAmerica What @dhepburn said.   \n",
       "1                                                        @VirginAmerica plus you've added commercials to the experience... tacky.   \n",
       "2                                                         @VirginAmerica I didn't today... Must mean I need to take another trip!   \n",
       "3  @VirginAmerica it's really aggressive to blast obnoxious \"entertainment\" in your guests' faces &amp; they have little recourse   \n",
       "4                                                                         @VirginAmerica and it's a really big bad thing about it   \n",
       "\n",
       "                                                                                         clean  \n",
       "0                                                                                       [said]  \n",
       "1                                                [plus, added, commercials, experience, tacky]  \n",
       "2                                            [today, must, mean, need, take, another, trip, !]  \n",
       "3  [really, aggressive, blast, obnoxious, entertainment, guests, faces, amp, little, recourse]  \n",
       "4                                                                    [really, big, bad, thing]  "
      ]
     },
     "execution_count": 136,
     "metadata": {},
     "output_type": "execute_result"
    }
   ],
   "source": [
    "# Tokenize tweets\n",
    "df['clean'] = df['clean'].apply(nltk.word_tokenize)\n",
    "df[['text','clean']].head()"
   ]
  },
  {
   "cell_type": "markdown",
   "id": "d9f88e9f",
   "metadata": {},
   "source": [
    "### Stem Words"
   ]
  },
  {
   "cell_type": "code",
   "execution_count": 177,
   "id": "438d1f20",
   "metadata": {},
   "outputs": [],
   "source": [
    "from nltk.stem.porter import PorterStemmer"
   ]
  },
  {
   "cell_type": "code",
   "execution_count": 178,
   "id": "83a3b24b",
   "metadata": {},
   "outputs": [],
   "source": [
    "# instantiate porter stemmer\n",
    "porter = PorterStemmer()"
   ]
  },
  {
   "cell_type": "code",
   "execution_count": 179,
   "id": "14149ed8",
   "metadata": {},
   "outputs": [],
   "source": [
    "# Apply to words in clean text\n",
    "df['stemmed'] = df['clean'].apply(lambda x: [porter.stem(word) for word in x])"
   ]
  },
  {
   "cell_type": "code",
   "execution_count": 180,
   "id": "d1b61d34",
   "metadata": {},
   "outputs": [],
   "source": [
    "# recombine\n",
    "df['stemmed'] = df['stemmed'].str.join(' ')"
   ]
  },
  {
   "cell_type": "code",
   "execution_count": 181,
   "id": "5f7c6f32",
   "metadata": {},
   "outputs": [
    {
     "data": {
      "text/plain": [
       "0                                                                  said\n",
       "1                                          plu ad commerci experi tacki\n",
       "2                                today must mean need take anoth trip !\n",
       "3    realli aggress blast obnoxi entertain guest face amp littl recours\n",
       "4                                                  realli big bad thing\n",
       "Name: stemmed, dtype: object"
      ]
     },
     "execution_count": 181,
     "metadata": {},
     "output_type": "execute_result"
    }
   ],
   "source": [
    "df['stemmed'].head()"
   ]
  },
  {
   "cell_type": "markdown",
   "id": "913f9a56",
   "metadata": {},
   "source": [
    "### Drop Neutral Class and Label Encode Targets"
   ]
  },
  {
   "cell_type": "code",
   "execution_count": 182,
   "id": "a68940d2",
   "metadata": {},
   "outputs": [],
   "source": [
    "from sklearn.preprocessing import LabelEncoder"
   ]
  },
  {
   "cell_type": "code",
   "execution_count": 183,
   "id": "085fa284",
   "metadata": {},
   "outputs": [
    {
     "data": {
      "text/plain": [
       "negative    9170\n",
       "positive    2360\n",
       "Name: sentiment, dtype: int64"
      ]
     },
     "execution_count": 183,
     "metadata": {},
     "output_type": "execute_result"
    }
   ],
   "source": [
    "# Drop Neutral Sentiment\n",
    "df = df[df['sentiment'] != 'neutral']\n",
    "df['sentiment'].value_counts()"
   ]
  },
  {
   "cell_type": "code",
   "execution_count": 194,
   "id": "5486598c",
   "metadata": {},
   "outputs": [
    {
     "data": {
      "text/html": [
       "<div>\n",
       "<style scoped>\n",
       "    .dataframe tbody tr th:only-of-type {\n",
       "        vertical-align: middle;\n",
       "    }\n",
       "\n",
       "    .dataframe tbody tr th {\n",
       "        vertical-align: top;\n",
       "    }\n",
       "\n",
       "    .dataframe thead th {\n",
       "        text-align: right;\n",
       "    }\n",
       "</style>\n",
       "<table border=\"1\" class=\"dataframe\">\n",
       "  <thead>\n",
       "    <tr style=\"text-align: right;\">\n",
       "      <th></th>\n",
       "      <th>tweet_id</th>\n",
       "      <th>sentiment</th>\n",
       "      <th>confidence</th>\n",
       "      <th>airline</th>\n",
       "      <th>retweets</th>\n",
       "      <th>text</th>\n",
       "      <th>clean</th>\n",
       "      <th>stemmed</th>\n",
       "      <th>coded_sentiment</th>\n",
       "    </tr>\n",
       "  </thead>\n",
       "  <tbody>\n",
       "    <tr>\n",
       "      <th>1</th>\n",
       "      <td>570301130888122368</td>\n",
       "      <td>positive</td>\n",
       "      <td>0.3486</td>\n",
       "      <td>Virgin America</td>\n",
       "      <td>0</td>\n",
       "      <td>@VirginAmerica plus you've added commercials to the experience... tacky.</td>\n",
       "      <td>[plus, added, commercials, experience, tacky]</td>\n",
       "      <td>plu ad commerci experi tacki</td>\n",
       "      <td>1</td>\n",
       "    </tr>\n",
       "    <tr>\n",
       "      <th>3</th>\n",
       "      <td>570301031407624196</td>\n",
       "      <td>negative</td>\n",
       "      <td>1.0000</td>\n",
       "      <td>Virgin America</td>\n",
       "      <td>0</td>\n",
       "      <td>@VirginAmerica it's really aggressive to blast obnoxious \"entertainment\" in your guests' faces &amp;amp; they have little recourse</td>\n",
       "      <td>[really, aggressive, blast, obnoxious, entertainment, guests, faces, amp, little, recourse]</td>\n",
       "      <td>realli aggress blast obnoxi entertain guest face amp littl recours</td>\n",
       "      <td>0</td>\n",
       "    </tr>\n",
       "    <tr>\n",
       "      <th>4</th>\n",
       "      <td>570300817074462722</td>\n",
       "      <td>negative</td>\n",
       "      <td>1.0000</td>\n",
       "      <td>Virgin America</td>\n",
       "      <td>0</td>\n",
       "      <td>@VirginAmerica and it's a really big bad thing about it</td>\n",
       "      <td>[really, big, bad, thing]</td>\n",
       "      <td>realli big bad thing</td>\n",
       "      <td>0</td>\n",
       "    </tr>\n",
       "    <tr>\n",
       "      <th>5</th>\n",
       "      <td>570300767074181121</td>\n",
       "      <td>negative</td>\n",
       "      <td>1.0000</td>\n",
       "      <td>Virgin America</td>\n",
       "      <td>0</td>\n",
       "      <td>@VirginAmerica seriously would pay $30 a flight for seats that didn't have this playing.\\nit's really the only bad thing about flying VA</td>\n",
       "      <td>[seriously, would, pay, 30, flight, seats, playing, really, bad, thing, flying, va]</td>\n",
       "      <td>serious would pay 30 flight seat play realli bad thing fli va</td>\n",
       "      <td>0</td>\n",
       "    </tr>\n",
       "    <tr>\n",
       "      <th>6</th>\n",
       "      <td>570300616901320704</td>\n",
       "      <td>positive</td>\n",
       "      <td>0.6745</td>\n",
       "      <td>Virgin America</td>\n",
       "      <td>0</td>\n",
       "      <td>@VirginAmerica yes, nearly every time I fly VX this “ear worm” won’t go away :)</td>\n",
       "      <td>[yes, nearly, every, time, fly, vx, ear, worm, wont, go, away]</td>\n",
       "      <td>ye nearli everi time fli vx ear worm wont go away</td>\n",
       "      <td>1</td>\n",
       "    </tr>\n",
       "  </tbody>\n",
       "</table>\n",
       "</div>"
      ],
      "text/plain": [
       "             tweet_id sentiment  confidence         airline  retweets  \\\n",
       "1  570301130888122368  positive      0.3486  Virgin America         0   \n",
       "3  570301031407624196  negative      1.0000  Virgin America         0   \n",
       "4  570300817074462722  negative      1.0000  Virgin America         0   \n",
       "5  570300767074181121  negative      1.0000  Virgin America         0   \n",
       "6  570300616901320704  positive      0.6745  Virgin America         0   \n",
       "\n",
       "                                                                                                                                       text  \\\n",
       "1                                                                  @VirginAmerica plus you've added commercials to the experience... tacky.   \n",
       "3            @VirginAmerica it's really aggressive to blast obnoxious \"entertainment\" in your guests' faces &amp; they have little recourse   \n",
       "4                                                                                   @VirginAmerica and it's a really big bad thing about it   \n",
       "5  @VirginAmerica seriously would pay $30 a flight for seats that didn't have this playing.\\nit's really the only bad thing about flying VA   \n",
       "6                                                           @VirginAmerica yes, nearly every time I fly VX this “ear worm” won’t go away :)   \n",
       "\n",
       "                                                                                         clean  \\\n",
       "1                                                [plus, added, commercials, experience, tacky]   \n",
       "3  [really, aggressive, blast, obnoxious, entertainment, guests, faces, amp, little, recourse]   \n",
       "4                                                                    [really, big, bad, thing]   \n",
       "5          [seriously, would, pay, 30, flight, seats, playing, really, bad, thing, flying, va]   \n",
       "6                               [yes, nearly, every, time, fly, vx, ear, worm, wont, go, away]   \n",
       "\n",
       "                                                              stemmed  \\\n",
       "1                                        plu ad commerci experi tacki   \n",
       "3  realli aggress blast obnoxi entertain guest face amp littl recours   \n",
       "4                                                realli big bad thing   \n",
       "5       serious would pay 30 flight seat play realli bad thing fli va   \n",
       "6                   ye nearli everi time fli vx ear worm wont go away   \n",
       "\n",
       "   coded_sentiment  \n",
       "1                1  \n",
       "3                0  \n",
       "4                0  \n",
       "5                0  \n",
       "6                1  "
      ]
     },
     "execution_count": 194,
     "metadata": {},
     "output_type": "execute_result"
    }
   ],
   "source": [
    "# Encode target labels into new col\n",
    "le = LabelEncoder()\n",
    "df['coded_sentiment'] = le.fit_transform(df['sentiment'])\n",
    "df.head()"
   ]
  },
  {
   "cell_type": "markdown",
   "id": "8dcae0e6",
   "metadata": {},
   "source": [
    "### Split for Model Training and Testing"
   ]
  },
  {
   "cell_type": "code",
   "execution_count": 195,
   "id": "2ba1c0c9",
   "metadata": {},
   "outputs": [],
   "source": [
    "from sklearn.model_selection import train_test_split"
   ]
  },
  {
   "cell_type": "code",
   "execution_count": 252,
   "id": "2e31feaa",
   "metadata": {},
   "outputs": [],
   "source": [
    "# Create training set and test set\n",
    "X = df['stemmed']\n",
    "y = df['coded_sentiment']"
   ]
  },
  {
   "cell_type": "code",
   "execution_count": 253,
   "id": "724059a8",
   "metadata": {},
   "outputs": [],
   "source": [
    "# Create training and test data\n",
    "X_train, X_test, y_train, y_test = train_test_split(X,y, test_size = 0.2, stratify = y, random_state = 42)"
   ]
  },
  {
   "cell_type": "code",
   "execution_count": 254,
   "id": "30bb7e8a",
   "metadata": {},
   "outputs": [
    {
     "name": "stdout",
     "output_type": "stream",
     "text": [
      "(9224,) (9224,) (2306,) (2306,)\n"
     ]
    }
   ],
   "source": [
    "# Compare training and testing shapes\n",
    "print(X_train.shape, y_train.shape, X_test.shape, y_test.shape)"
   ]
  },
  {
   "cell_type": "markdown",
   "id": "6c01bc4b",
   "metadata": {},
   "source": [
    "### Null Accuracy"
   ]
  },
  {
   "cell_type": "code",
   "execution_count": 270,
   "id": "310a0844",
   "metadata": {},
   "outputs": [
    {
     "data": {
      "text/plain": [
       "0    1834\n",
       "1     472\n",
       "Name: coded_sentiment, dtype: int64"
      ]
     },
     "execution_count": 270,
     "metadata": {},
     "output_type": "execute_result"
    }
   ],
   "source": [
    "# check class distribution in test set\n",
    "y_test.value_counts()"
   ]
  },
  {
   "cell_type": "code",
   "execution_count": 271,
   "id": "aa5cfe43",
   "metadata": {},
   "outputs": [
    {
     "name": "stdout",
     "output_type": "stream",
     "text": [
      "Null accuracy score: 0.7953\n"
     ]
    }
   ],
   "source": [
    "# check null accuracy score\n",
    "null_accuracy = 1834/(1834+472)\n",
    "print('Null accuracy score: {0:0.4f}'. format(null_accuracy))"
   ]
  },
  {
   "cell_type": "markdown",
   "id": "c46ec13e",
   "metadata": {},
   "source": [
    "### Vectorize Data"
   ]
  },
  {
   "cell_type": "code",
   "execution_count": 255,
   "id": "6dd58a1c",
   "metadata": {},
   "outputs": [],
   "source": [
    "from sklearn.feature_extraction.text import CountVectorizer\n",
    "#from sklearn.feature_extraction.text import TfidfVectorizer"
   ]
  },
  {
   "cell_type": "code",
   "execution_count": 256,
   "id": "cbc88eff",
   "metadata": {},
   "outputs": [],
   "source": [
    "# Store vectorizer into variable\n",
    "# tfidf = TfidfVectorizer()\n",
    "\n",
    "# # Create tf_idf feature matrix using apply\n",
    "# feature_matrix = tfidf.fit_transform(X_train)\n",
    "\n",
    "# # use transform to apply tfidf vectorization to test data\n",
    "# test_matrix = tfidf.transform(X_test)"
   ]
  },
  {
   "cell_type": "code",
   "execution_count": 257,
   "id": "ad018767",
   "metadata": {},
   "outputs": [],
   "source": [
    "# Store vectorizer into variable\n",
    "vctrz = CountVectorizer()\n",
    "\n",
    "# Create tf_idf feature matrix using apply\n",
    "feature_matrix = vctrz.fit_transform(X_train)\n",
    "\n",
    "# use transform to apply tfidf vectorization to test data\n",
    "test_matrix = vctrz.transform(X_test)"
   ]
  },
  {
   "cell_type": "markdown",
   "id": "cf37ecbd",
   "metadata": {},
   "source": [
    "## Modeling with Logistic Regression"
   ]
  },
  {
   "cell_type": "code",
   "execution_count": 273,
   "id": "e4a55eba",
   "metadata": {},
   "outputs": [],
   "source": [
    "from sklearn.linear_model import LogisticRegression\n",
    "from sklearn.ensemble import RandomForestClassifier, GradientBoostingClassifier"
   ]
  },
  {
   "cell_type": "code",
   "execution_count": 276,
   "id": "c4464daf",
   "metadata": {},
   "outputs": [],
   "source": [
    "# Create logistic regression object\n",
    "logistic_regression = LogisticRegression()\n",
    "\n",
    "RFC = RandomForestClassifier(random_state = 0)\n",
    "\n",
    "GBC = GradientBoostingClassifier()\n",
    "# Train model with training data\n",
    "#model = logistic_regression.fit(feature_matrix,y_train)\n",
    "#model = RFC.fit(feature_matrix,y_train)\n",
    "model = GBC.fit(feature_matrix,y_train)"
   ]
  },
  {
   "cell_type": "markdown",
   "id": "ee91d999",
   "metadata": {},
   "source": [
    "### Model Evaluation"
   ]
  },
  {
   "cell_type": "code",
   "execution_count": 277,
   "id": "84e262d8",
   "metadata": {},
   "outputs": [
    {
     "data": {
      "text/plain": [
       "0.8882263660017347"
      ]
     },
     "execution_count": 277,
     "metadata": {},
     "output_type": "execute_result"
    }
   ],
   "source": [
    "# View model score\n",
    "model.score(feature_matrix, y_train)"
   ]
  },
  {
   "cell_type": "code",
   "execution_count": 278,
   "id": "e329681c",
   "metadata": {},
   "outputs": [],
   "source": [
    "from sklearn.metrics import accuracy_score,classification_report\n",
    "from sklearn.model_selection import cross_val_score"
   ]
  },
  {
   "cell_type": "code",
   "execution_count": 279,
   "id": "e15e6bba",
   "metadata": {},
   "outputs": [
    {
     "data": {
      "text/plain": [
       "0.8924544666088465"
      ]
     },
     "execution_count": 279,
     "metadata": {},
     "output_type": "execute_result"
    }
   ],
   "source": [
    "# check accuracy using accuracy_score\n",
    "# create array of predicted values to pass to accuracy score()\n",
    "accuracy_score(y_test, model.predict(test_matrix))"
   ]
  },
  {
   "cell_type": "code",
   "execution_count": 280,
   "id": "79f35a06",
   "metadata": {},
   "outputs": [
    {
     "data": {
      "text/plain": [
       "0.8781493271731883"
      ]
     },
     "execution_count": 280,
     "metadata": {},
     "output_type": "execute_result"
    }
   ],
   "source": [
    "# Check accuracy using the mean of cross_val_score\n",
    "cross_val_score(model, test_matrix, y_test, scoring = 'accuracy').mean()"
   ]
  },
  {
   "cell_type": "markdown",
   "id": "ec334383",
   "metadata": {},
   "source": [
    "### Move Results to Confusion Matrix"
   ]
  },
  {
   "cell_type": "code",
   "execution_count": 281,
   "id": "8e44ffca",
   "metadata": {},
   "outputs": [],
   "source": [
    "from sklearn.metrics import confusion_matrix, ConfusionMatrixDisplay"
   ]
  },
  {
   "cell_type": "code",
   "execution_count": 282,
   "id": "49dcefff",
   "metadata": {},
   "outputs": [
    {
     "data": {
      "text/plain": [
       "array([[1771,   63],\n",
       "       [ 185,  287]], dtype=int64)"
      ]
     },
     "execution_count": 282,
     "metadata": {},
     "output_type": "execute_result"
    }
   ],
   "source": [
    "# Create confusion matrix\n",
    "c_matrix = confusion_matrix(y_test, model.predict(test_matrix))\n",
    "\n",
    "# View matrix\n",
    "c_matrix"
   ]
  },
  {
   "cell_type": "code",
   "execution_count": 283,
   "id": "0877d101",
   "metadata": {},
   "outputs": [
    {
     "data": {
      "image/png": "[encoded data removed]",
      "text/plain": [
       "<Figure size 640x480 with 2 Axes>"
      ]
     },
     "metadata": {},
     "output_type": "display_data"
    }
   ],
   "source": [
    "# Use display matrix function to heatmap prediction/true cases\n",
    "\n",
    "disp = ConfusionMatrixDisplay(c_matrix)\n",
    "disp.plot()\n",
    "\n",
    "plt.show()"
   ]
  },
  {
   "cell_type": "code",
   "execution_count": 284,
   "id": "586a267c",
   "metadata": {},
   "outputs": [],
   "source": [
    "#predicting output for test data\n",
    "pred = model.predict(test_matrix)"
   ]
  },
  {
   "cell_type": "code",
   "execution_count": 269,
   "id": "f2976912",
   "metadata": {},
   "outputs": [
    {
     "name": "stdout",
     "output_type": "stream",
     "text": [
      "              precision    recall  f1-score   support\n",
      "\n",
      "           0       0.92      0.96      0.94      1834\n",
      "           1       0.83      0.69      0.75       472\n",
      "\n",
      "    accuracy                           0.91      2306\n",
      "   macro avg       0.88      0.83      0.85      2306\n",
      "weighted avg       0.90      0.91      0.90      2306\n",
      "\n"
     ]
    }
   ],
   "source": [
    "# Get accuracy/eval metrics for each class RFC\n",
    "print(classification_report(y_test,pred))"
   ]
  }
 ],
 "metadata": {
  "kernelspec": {
   "display_name": "Python 3 (ipykernel)",
   "language": "python",
   "name": "python3"
  },
  "language_info": {
   "codemirror_mode": {
    "name": "ipython",
    "version": 3
   },
   "file_extension": ".py",
   "mimetype": "text/x-python",
   "name": "python",
   "nbconvert_exporter": "python",
   "pygments_lexer": "ipython3",
   "version": "3.11.2"
  }
 },
 "nbformat": 4,
 "nbformat_minor": 5
}
